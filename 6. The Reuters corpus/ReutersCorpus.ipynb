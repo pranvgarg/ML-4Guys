{
 "cells": [
  {
   "cell_type": "markdown",
   "metadata": {},
   "source": [
    "# Author Attribution and Document Clustering Using the Reuters C50 Corpus\n",
    "\n",
    "This analysis aims to explore and cluster documents from the Reuters C50 corpus based on author attribution. We will utilize TF-IDF vectorization, dimensionality reduction techniques (PCA), and clustering algorithms (K-Means) to uncover patterns in the dataset. Additionally, sentiment analysis will be performed on the documents to gain insights into the tone and sentiment of the texts."
   ]
  },
  {
   "cell_type": "code",
   "execution_count": 1,
   "metadata": {},
   "outputs": [],
   "source": [
    "import nltk\n",
    "import random\n",
    "import os\n",
    "import re\n",
    "import numpy as np\n",
    "import pandas as pd\n",
    "from collections import Counter\n",
    "import string\n",
    "from sklearn.feature_extraction.text import TfidfVectorizer\n",
    "from sklearn.decomposition import PCA\n",
    "from sklearn.cluster import KMeans\n",
    "from sklearn.feature_extraction.text import CountVectorizer\n",
    "from sklearn.metrics import silhouette_score\n",
    "from sklearn.decomposition import PCA\n",
    "from sklearn.manifold import TSNE\n",
    "import matplotlib.pyplot as plt\n",
    "import seaborn as sns\n",
    "import random\n",
    "import nltk\n",
    "from nltk.stem import PorterStemmer\n",
    "from nltk.corpus import reuters, stopwords\n",
    "from nltk.sentiment import SentimentIntensityAnalyzer\n",
    "from nltk.tokenize import word_tokenize, sent_tokenize\n",
    "import plotly.express as px"
   ]
  },
  {
   "cell_type": "markdown",
   "metadata": {},
   "source": [
    "## Data Loading and Preprocessing\n",
    "\n",
    "The dataset is loaded from the Reuters C50 corpus, consisting of 50 articles from each of 50 different authors. The data is divided into training and testing sets. We will preprocess the text data by cleaning it, tokenizing, and vectorizing using the TF-IDF method."
   ]
  },
  {
   "cell_type": "code",
   "execution_count": 2,
   "metadata": {},
   "outputs": [
    {
     "name": "stderr",
     "output_type": "stream",
     "text": [
      "[nltk_data] Downloading package stopwords to\n",
      "[nltk_data]     /Users/pranvgarg/nltk_data...\n",
      "[nltk_data]   Package stopwords is already up-to-date!\n",
      "[nltk_data] Downloading package punkt to /Users/pranvgarg/nltk_data...\n",
      "[nltk_data]   Package punkt is already up-to-date!\n"
     ]
    },
    {
     "data": {
      "text/plain": [
       "True"
      ]
     },
     "execution_count": 2,
     "metadata": {},
     "output_type": "execute_result"
    }
   ],
   "source": [
    "# Download NLTK data (if not already installed)\n",
    "nltk.download('stopwords')\n",
    "nltk.download('punkt') # for tokenizing"
   ]
  },
  {
   "cell_type": "code",
   "execution_count": 3,
   "metadata": {},
   "outputs": [],
   "source": [
    "# Define the data directories\n",
    "train_dir = \"ReutersC50/C50train\"  # Update with your path\n",
    "test_dir = \"ReutersC50/C50test\"    # Update with your path"
   ]
  },
  {
   "cell_type": "code",
   "execution_count": 4,
   "metadata": {},
   "outputs": [],
   "source": [
    "# Helper function to read data from a labeled directory\n",
    "def read_data_from_directory(directory_path):\n",
    "    texts = []\n",
    "    labels = []\n",
    "    authors = os.listdir(directory_path)\n",
    "\n",
    "    for author in authors:\n",
    "        author_path = os.path.join(directory_path, author)\n",
    "        \n",
    "        # Skip if it is not a directory (e.g., .DS_Store file)\n",
    "        if not os.path.isdir(author_path):\n",
    "            continue\n",
    "        \n",
    "        for file_name in os.listdir(author_path):\n",
    "            file_path = os.path.join(author_path, file_name)\n",
    "            with open(file_path, 'r', encoding='utf-8') as f:\n",
    "                texts.append(f.read())\n",
    "                labels.append(author)\n",
    "                \n",
    "    return texts, labels\n",
    "\n",
    "# Reading the training and test data\n",
    "train_texts, train_labels = read_data_from_directory(train_dir)\n",
    "test_texts, test_labels = read_data_from_directory(test_dir)\n",
    "train_df = pd.DataFrame({'document': train_texts, 'author': train_labels})\n",
    "test_df = pd.DataFrame({'document': test_texts, 'author': test_labels})"
   ]
  },
  {
   "cell_type": "markdown",
   "metadata": {},
   "source": [
    "## sentiment analysis of whole corpus\n",
    "Sentiment analysis is conducted to assess the tone of the documents in the dataset. By analyzing the sentiment scores, we can gain insights into the overall mood and sentiment expressed by the authors in their writings."
   ]
  },
  {
   "cell_type": "code",
   "execution_count": 5,
   "metadata": {},
   "outputs": [
    {
     "name": "stderr",
     "output_type": "stream",
     "text": [
      "[nltk_data] Downloading package vader_lexicon to ReutersC50...\n",
      "[nltk_data]   Package vader_lexicon is already up-to-date!\n"
     ]
    }
   ],
   "source": [
    "data_dir = \"ReutersC50\"\n",
    "nltk.data.path.append(os.path.abspath(data_dir))\n",
    "nltk.download('vader_lexicon', download_dir=data_dir)\n",
    "sia = SentimentIntensityAnalyzer()"
   ]
  },
  {
   "cell_type": "code",
   "execution_count": 6,
   "metadata": {},
   "outputs": [
    {
     "name": "stderr",
     "output_type": "stream",
     "text": [
      "2500it [00:11, 223.85it/s]\n"
     ]
    }
   ],
   "source": [
    "from tqdm import tqdm\n",
    "def get_sentiment_scores(text):\n",
    "    sia = SentimentIntensityAnalyzer()\n",
    "    sentiment_scores = sia.polarity_scores(text)\n",
    "    return sentiment_scores\n",
    "\n",
    "sentiment_scores_list = []\n",
    "\n",
    "for _, train_text in tqdm(enumerate(train_df['document'])):\n",
    "    text = train_text\n",
    "    sentiment_scores = get_sentiment_scores(text)\n",
    "    sentiment_scores['document'] = train_text\n",
    "    sentiment_scores_list.append(sentiment_scores)"
   ]
  },
  {
   "cell_type": "code",
   "execution_count": 7,
   "metadata": {},
   "outputs": [
    {
     "data": {
      "text/html": [
       "<div>\n",
       "<style scoped>\n",
       "    .dataframe tbody tr th:only-of-type {\n",
       "        vertical-align: middle;\n",
       "    }\n",
       "\n",
       "    .dataframe tbody tr th {\n",
       "        vertical-align: top;\n",
       "    }\n",
       "\n",
       "    .dataframe thead th {\n",
       "        text-align: right;\n",
       "    }\n",
       "</style>\n",
       "<table border=\"1\" class=\"dataframe\">\n",
       "  <thead>\n",
       "    <tr style=\"text-align: right;\">\n",
       "      <th></th>\n",
       "      <th>document</th>\n",
       "      <th>pos</th>\n",
       "      <th>neu</th>\n",
       "      <th>neg</th>\n",
       "      <th>compound</th>\n",
       "    </tr>\n",
       "  </thead>\n",
       "  <tbody>\n",
       "    <tr>\n",
       "      <th>0</th>\n",
       "      <td>Drugstore giant Revco D.S. Inc. said Monday it...</td>\n",
       "      <td>0.102</td>\n",
       "      <td>0.868</td>\n",
       "      <td>0.030</td>\n",
       "      <td>0.9840</td>\n",
       "    </tr>\n",
       "    <tr>\n",
       "      <th>1</th>\n",
       "      <td>Mattel Inc., seeking to expand in the market f...</td>\n",
       "      <td>0.078</td>\n",
       "      <td>0.898</td>\n",
       "      <td>0.025</td>\n",
       "      <td>0.9824</td>\n",
       "    </tr>\n",
       "    <tr>\n",
       "      <th>2</th>\n",
       "      <td>A financial agreement between Barney's Inc and...</td>\n",
       "      <td>0.051</td>\n",
       "      <td>0.906</td>\n",
       "      <td>0.043</td>\n",
       "      <td>0.4959</td>\n",
       "    </tr>\n",
       "    <tr>\n",
       "      <th>3</th>\n",
       "      <td>An independent shareholder advisory firm recom...</td>\n",
       "      <td>0.066</td>\n",
       "      <td>0.890</td>\n",
       "      <td>0.043</td>\n",
       "      <td>0.8406</td>\n",
       "    </tr>\n",
       "    <tr>\n",
       "      <th>4</th>\n",
       "      <td>Raising the stakes in the escalating battle fo...</td>\n",
       "      <td>0.133</td>\n",
       "      <td>0.811</td>\n",
       "      <td>0.056</td>\n",
       "      <td>0.9930</td>\n",
       "    </tr>\n",
       "    <tr>\n",
       "      <th>...</th>\n",
       "      <td>...</td>\n",
       "      <td>...</td>\n",
       "      <td>...</td>\n",
       "      <td>...</td>\n",
       "      <td>...</td>\n",
       "    </tr>\n",
       "    <tr>\n",
       "      <th>2495</th>\n",
       "      <td>The Toronto Stock Exchange closed mixed in hea...</td>\n",
       "      <td>0.170</td>\n",
       "      <td>0.755</td>\n",
       "      <td>0.075</td>\n",
       "      <td>0.9888</td>\n",
       "    </tr>\n",
       "    <tr>\n",
       "      <th>2496</th>\n",
       "      <td>The Toronto stock market ended weaker in brisk...</td>\n",
       "      <td>0.068</td>\n",
       "      <td>0.889</td>\n",
       "      <td>0.043</td>\n",
       "      <td>0.6096</td>\n",
       "    </tr>\n",
       "    <tr>\n",
       "      <th>2497</th>\n",
       "      <td>Toronto stocks ended sharply lower on Thursday...</td>\n",
       "      <td>0.098</td>\n",
       "      <td>0.810</td>\n",
       "      <td>0.092</td>\n",
       "      <td>0.2500</td>\n",
       "    </tr>\n",
       "    <tr>\n",
       "      <th>2498</th>\n",
       "      <td>The Toronto stock market ended weaker in brisk...</td>\n",
       "      <td>0.104</td>\n",
       "      <td>0.857</td>\n",
       "      <td>0.039</td>\n",
       "      <td>0.9637</td>\n",
       "    </tr>\n",
       "    <tr>\n",
       "      <th>2499</th>\n",
       "      <td>Several large-capitalization Canadian stocks c...</td>\n",
       "      <td>0.041</td>\n",
       "      <td>0.914</td>\n",
       "      <td>0.045</td>\n",
       "      <td>-0.4594</td>\n",
       "    </tr>\n",
       "  </tbody>\n",
       "</table>\n",
       "<p>2500 rows × 5 columns</p>\n",
       "</div>"
      ],
      "text/plain": [
       "                                               document    pos    neu    neg  \\\n",
       "0     Drugstore giant Revco D.S. Inc. said Monday it...  0.102  0.868  0.030   \n",
       "1     Mattel Inc., seeking to expand in the market f...  0.078  0.898  0.025   \n",
       "2     A financial agreement between Barney's Inc and...  0.051  0.906  0.043   \n",
       "3     An independent shareholder advisory firm recom...  0.066  0.890  0.043   \n",
       "4     Raising the stakes in the escalating battle fo...  0.133  0.811  0.056   \n",
       "...                                                 ...    ...    ...    ...   \n",
       "2495  The Toronto Stock Exchange closed mixed in hea...  0.170  0.755  0.075   \n",
       "2496  The Toronto stock market ended weaker in brisk...  0.068  0.889  0.043   \n",
       "2497  Toronto stocks ended sharply lower on Thursday...  0.098  0.810  0.092   \n",
       "2498  The Toronto stock market ended weaker in brisk...  0.104  0.857  0.039   \n",
       "2499  Several large-capitalization Canadian stocks c...  0.041  0.914  0.045   \n",
       "\n",
       "      compound  \n",
       "0       0.9840  \n",
       "1       0.9824  \n",
       "2       0.4959  \n",
       "3       0.8406  \n",
       "4       0.9930  \n",
       "...        ...  \n",
       "2495    0.9888  \n",
       "2496    0.6096  \n",
       "2497    0.2500  \n",
       "2498    0.9637  \n",
       "2499   -0.4594  \n",
       "\n",
       "[2500 rows x 5 columns]"
      ]
     },
     "execution_count": 7,
     "metadata": {},
     "output_type": "execute_result"
    }
   ],
   "source": [
    "sentiment_df = pd.DataFrame(sentiment_scores_list)\n",
    "sentiment_df = sentiment_df[['document', 'pos', 'neu', 'neg', 'compound']]\n",
    "sentiment_df"
   ]
  },
  {
   "cell_type": "code",
   "execution_count": 8,
   "metadata": {},
   "outputs": [
    {
     "data": {
      "text/plain": [
       "{'neg': 0.045,\n",
       " 'neu': 0.914,\n",
       " 'pos': 0.041,\n",
       " 'compound': -0.4594,\n",
       " 'document': 'Several large-capitalization Canadian stocks could benefit, while others may be hurt when the Toronto Stock Exchange changes rules governing control blocks in its key 300 Composite Index on Friday.\\nStocks such as Barrick Gold Corp, funeral home operator Loewen Group Inc and energy firm Petro-Canada should get snapped up by fund managers when the rules change, analysts said.\\n\"Index funds, which try to match the weighting of the index, are going to have to scramble to buy X percent more Barrick shares...by Friday,\" said an analyst who declined to be identified.\\nThe Toronto Stock Exchange, which handles more than 80 percent of Canada\\'s equity trading, will increase the relative weighting of 30 stocks on Friday by raising the level of control blocks to 20 percent from 15 percent.\\nThe change will take effect at the start of trading on Friday.\\nRelative weighting describes the impact a stock or sub-group has on the overall TSE 300 Composite Index.\\nA control block is a group of shares owned by a single entity. Control blocks are not considered part of a stock\\'s weighting because these shares cannot freely trade in the market.\\nUnder the new rules, the federal government\\'s 18.26 percent holding in Petro-Canada Inc will be included in the company\\'s overall float. Petro-Canada\\'s will therefore see its weighting rise to 1.22 percent from about 1.03 percent.\\nThe TSE is changing the definition of a control block to comply with Ontario Securities Commission reporting rules, said Tara O\\'Donnell, director of derivative markets management.\\nThe Ontario Teachers\\' Pension Plan Board, one of Canada\\'s biggest pension fund managers, will need to make some changes, said Zev Frishman, manager of quantitative products.\\nTeachers\\' has almost C$45 billion in assets with a third of its money in Canadian equities.\\n\"I cannot go into specific numbers or anything like that, but in essence we will have to, to some extent, adjust positions,\" Frishman said.\\nBarrick will likely be one of the stocks snapped up, analysts said.\\nBarrick, which is 15.7 percent owned by Trizec Hahn Corp, will now be weighted based on 100 percent of its shares from 84.3 percent. As a result, the world\\'s third largest gold producer will see its relative weighting in the TSE 300 increase to 3.28 percent from 2.84 percent.\\nLoewen\\'s weighting will jump to about 1.74 percent from about 0.64 percent, after a control block held by chief executive Raymond Loewen and his wife is included.\\nOntario Municipal Employees Retirement Services (OMERS) said it expected the control block changes to have little impact on its funds.\\n\"You have to remember that the actual changes relative to the market overall are quite small,\" said Tom Gunn, senior vice-president of OMERS\\' investment division.\\nThe list of 30 affected stocks also includes gold producer Franco-Nevada Mining Corp Ltd, Quebecor Printing Inc, publisher Hollinger Inc, energy firm Gulf Canada Resources Ltd and Shaw Industries Ltd.\\nOthers are Astral Communications Inc, BC Sugar Refinery Ltd, CCL Industries Inc and Co-Steel Inc, Corel Corp, Cognos Inc, Cinram Ltd., Edper Group Ltd and First Marathon Inc and Tee-Comm Electronics Inc.\\n'}"
      ]
     },
     "execution_count": 8,
     "metadata": {},
     "output_type": "execute_result"
    }
   ],
   "source": [
    "sentiment_scores"
   ]
  },
  {
   "cell_type": "markdown",
   "metadata": {},
   "source": [
    "### Short Inference:\n",
    "The sentiment analysis suggests that the majority of the documents in this dataset are neutral in tone, with a slight lean towards positive sentiment. Negative sentiment is minimal but present. The compound scores reflect this, with most documents leaning towards a positive overall sentiment. This might be indicative of the nature of the content, such as corporate announcements or neutral reporting, which tends to avoid extreme emotional tones."
   ]
  },
  {
   "cell_type": "code",
   "execution_count": 9,
   "metadata": {},
   "outputs": [
    {
     "name": "stderr",
     "output_type": "stream",
     "text": [
      "[nltk_data] Downloading package stopwords to\n",
      "[nltk_data]     /Users/pranvgarg/nltk_data...\n",
      "[nltk_data]   Package stopwords is already up-to-date!\n"
     ]
    }
   ],
   "source": [
    "# Helper function to tokenize, remove punctuation, and stem\n",
    "nltk.download('stopwords')\n",
    "stop_words = set(stopwords.words('english'))\n",
    "\n",
    "def preprocess_text(text):\n",
    " # Convert text to lowercase\n",
    "    text = text.lower()\n",
    "    \n",
    "    # Remove specific unwanted characters and patterns using regex\n",
    "    text = re.sub(r\"[-'\\\"`~(){}[\\]<>]\", \" \", text)  # Replace various punctuation and special characters with spaces\n",
    "    text = re.sub(r\"\\.{2,}\", \" \", text)  # Replace ellipses with a space\n",
    "    text = re.sub(r\"\\b\\w{1,2}\\b\", \"\", text)  # Remove words with only 1 or 2 characters\n",
    "    \n",
    "    # Remove remaining special characters\n",
    "    text = re.sub(r\"[^\\w\\s]\", \"\", text)  # Remove any remaining non-alphanumeric characters\n",
    "    \n",
    "    # Tokenize\n",
    "    tokens = word_tokenize(text)\n",
    "    \n",
    "    # Remove stop words\n",
    "    tokens = [token for token in tokens if token not in stop_words]\n",
    "    \n",
    "    # Stemming\n",
    "    stemmer = PorterStemmer()\n",
    "    stemmed_tokens = [stemmer.stem(token) for token in tokens]\n",
    "    \n",
    "    return stemmed_tokens"
   ]
  },
  {
   "cell_type": "markdown",
   "metadata": {},
   "source": [
    "# Count Vectorization"
   ]
  },
  {
   "cell_type": "code",
   "execution_count": 10,
   "metadata": {},
   "outputs": [],
   "source": [
    "vectorizer = CountVectorizer(stop_words='english', max_features=1000)\n",
    "train_dtm = vectorizer.fit_transform(train_df['document'])\n",
    "test_dtm = vectorizer.transform(test_df['document'])"
   ]
  },
  {
   "cell_type": "code",
   "execution_count": 11,
   "metadata": {},
   "outputs": [
    {
     "data": {
      "text/plain": [
       "((2500, 1000), (2500, 1000))"
      ]
     },
     "execution_count": 11,
     "metadata": {},
     "output_type": "execute_result"
    }
   ],
   "source": [
    "train_dtm.shape, test_dtm.shape"
   ]
  },
  {
   "cell_type": "code",
   "execution_count": 12,
   "metadata": {},
   "outputs": [
    {
     "name": "stdout",
     "output_type": "stream",
     "text": [
      "Topic 1:\n",
      "['gm', 'workers', 'said', 'ford', 'plant', 'uaw', 'car', 'plants', 'strike', 'chrysler']\n",
      "Topic 2:\n",
      "['said', 'service', 'online', 'states', 'ban', 'poultry', 'united', 'access', 'new', 'america']\n",
      "Topic 3:\n",
      "['said', 'city', 'office', 'congress', 'site', 'new', 'banks', 'building', 'pacific', 'bank']\n",
      "Topic 4:\n",
      "['bid', 'pence', 'said', 'offer', 'electric', 'northern', 'price', 'electricity', 'share', 'power']\n",
      "Topic 5:\n",
      "['amp', 'communications', 'cable', 'said', 'local', 'new', 'phone', 'long', 'fcc', 'tv']\n",
      "Topic 6:\n",
      "['said', 'new', 'asia', 'australia', 'airlines', 'europe', 'pacific', 'asian', 'international', 'services']\n",
      "Topic 7:\n",
      "['said', 'china', 'beijing', 'chinese', 'taiwan', 'officials', 'trade', 'foreign', 'united', 'states']\n",
      "Topic 8:\n",
      "['mci', 'bt', 'said', 'fund', 'british', 'market', 'deal', 'billion', 'percent', 'funds']\n",
      "Topic 9:\n",
      "['said', 'law', 'industry', 'court', 'state', 'companies', 'tobacco', 'rules', 'government', 'case']\n",
      "Topic 10:\n",
      "['gold', 'said', 'bre', 'toronto', 'barrick', 'stocks', 'million', 'shares', 'stock', 'points']\n",
      "Topic 11:\n",
      "['said', 'wang', 'court', 'rights', 'years', 'adm', 'human', 'trial', 'government', 'dissident']\n",
      "Topic 12:\n",
      "['said', 'computer', 'internet', 'software', 'microsoft', 'corp', 'technology', 'new', 'apple', 'company']\n",
      "Topic 13:\n",
      "['bank', 'said', 'banks', 'percent', 'billion', 'canada', 'central', 'crown', 'czech', 'foreign']\n",
      "Topic 14:\n",
      "['billion', 'francs', 'france', 'percent', 'deficit', 'year', 'czech', 'french', 'telecom', '1996']\n",
      "Topic 15:\n",
      "['said', 'company', 'million', 'group', 'pounds', 'executive', 'business', 'shares', 'chief', 'percent']\n",
      "Topic 16:\n",
      "['said', 'pounds', 'year', 'percent', 'tax', 'water', 'britain', 'million', 'british', 'government']\n",
      "Topic 17:\n",
      "['oil', 'said', 'russia', 'russian', 'gas', 'production', 'output', 'western', 'project', 'world']\n",
      "Topic 18:\n",
      "['said', 'million', 'year', 'percent', 'quarter', 'sales', 'share', 'earnings', 'analysts', 'profit']\n",
      "Topic 19:\n",
      "['said', 'czech', 'klaus', 'party', 'senate', 'eurotunnel', 'coalition', 'house', 'drug', 'elections']\n",
      "Topic 20:\n",
      "['boeing', 'airbus', 'said', 'aircraft', 'mcdonnell', 'douglas', 'airline', 'billion', 'new', 'orders']\n",
      "Topic 21:\n",
      "['bank', 'banks', 'said', 'financial', 'banking', 'billion', 'insurance', 'yen', 'loans', 'japan']\n",
      "Topic 22:\n",
      "['said', 'year', 'percent', 'prices', 'million', '1996', '1997', '1995', 'growth', 'price']\n",
      "Topic 23:\n",
      "['said', '000', 'cocoa', 'tonnes', 'exporters', 'crop', 'coffee', 'year', 'coast', '1996']\n",
      "Topic 24:\n",
      "['said', '000', 'copper', 'colombia', 'people', 'government', 'traders', 'drug', 'trader', 'police']\n",
      "Topic 25:\n",
      "['china', 'hong', 'kong', 'chinese', 'said', 'tonnes', 'cargo', 'shanghai', '44', 'air']\n",
      "Topic 26:\n",
      "['said', 'news', 'air', 'television', 'french', 'thomson', 'france', 'group', 'media', 'percent']\n",
      "Topic 27:\n",
      "['market', 'said', 'markets', 'investors', 'stock', 'trading', 'shares', 'securities', 'share', 'foreign']\n",
      "Topic 28:\n",
      "['said', 'conrail', 'csx', 'southern', 'offer', 'shareholders', 'stock', 'percent', 'stores', 'deal']\n",
      "Topic 29:\n",
      "['hong', 'kong', 'china', 'said', 'tung', 'chinese', 'beijing', 'british', 'people', 'legislature']\n",
      "Topic 30:\n",
      "['said', 'company', 'analysts', 'analyst', 'new', 'stock', 'deal', 'market', 'business', 'based']\n"
     ]
    }
   ],
   "source": [
    "from sklearn.decomposition import LatentDirichletAllocation\n",
    "# Define the number of topics for LDA on TRAIN TEST\n",
    "n_topics = 30\n",
    "lda_model = LatentDirichletAllocation(n_components=n_topics, random_state=42)\n",
    "lda_model.fit(train_dtm)\n",
    "\n",
    "# Initialize a dictionary to store topics and their top words\n",
    "topic_word_mapping = {}\n",
    "\n",
    "# Extract feature names and identify top words for each topic\n",
    "vocab = vectorizer.get_feature_names_out()\n",
    "\n",
    "for index, topic_distribution in enumerate(lda_model.components_):\n",
    "    print(f\"Topic {index + 1}:\")\n",
    "    \n",
    "    # Adjusting the slicing to match the vocabulary size\n",
    "    top_indices = topic_distribution.argsort()[:-min(len(vocab), 10) - 1:-1]\n",
    "    \n",
    "    # Make sure indices are within the bounds\n",
    "    top_terms = [vocab[i] for i in top_indices if i < len(vocab)]\n",
    "    \n",
    "    print(top_terms)\n",
    "    topic_word_mapping[index] = [(index + 1), top_terms]"
   ]
  },
  {
   "cell_type": "code",
   "execution_count": 13,
   "metadata": {},
   "outputs": [
    {
     "data": {
      "text/html": [
       "<div>\n",
       "<style scoped>\n",
       "    .dataframe tbody tr th:only-of-type {\n",
       "        vertical-align: middle;\n",
       "    }\n",
       "\n",
       "    .dataframe tbody tr th {\n",
       "        vertical-align: top;\n",
       "    }\n",
       "\n",
       "    .dataframe thead th {\n",
       "        text-align: right;\n",
       "    }\n",
       "</style>\n",
       "<table border=\"1\" class=\"dataframe\">\n",
       "  <thead>\n",
       "    <tr style=\"text-align: right;\">\n",
       "      <th></th>\n",
       "      <th>author</th>\n",
       "      <th>Combined_Text</th>\n",
       "      <th>Predicted_Topic</th>\n",
       "    </tr>\n",
       "  </thead>\n",
       "  <tbody>\n",
       "    <tr>\n",
       "      <th>0</th>\n",
       "      <td>AaronPressman</td>\n",
       "      <td>The U.S. government is scrambling to update th...</td>\n",
       "      <td>12</td>\n",
       "    </tr>\n",
       "    <tr>\n",
       "      <th>1</th>\n",
       "      <td>AlanCrosby</td>\n",
       "      <td>East European markets moved higher across the ...</td>\n",
       "      <td>13</td>\n",
       "    </tr>\n",
       "    <tr>\n",
       "      <th>2</th>\n",
       "      <td>AlexanderSmith</td>\n",
       "      <td>British estate agency and financial products g...</td>\n",
       "      <td>15</td>\n",
       "    </tr>\n",
       "    <tr>\n",
       "      <th>3</th>\n",
       "      <td>BenjaminKangLim</td>\n",
       "      <td>Beijing's new mayor on Monday vowed the battle...</td>\n",
       "      <td>7</td>\n",
       "    </tr>\n",
       "    <tr>\n",
       "      <th>4</th>\n",
       "      <td>BernardHickey</td>\n",
       "      <td>Brokers Were Stockbroking and ABN AMRO Hoare G...</td>\n",
       "      <td>22</td>\n",
       "    </tr>\n",
       "    <tr>\n",
       "      <th>5</th>\n",
       "      <td>BradDorfman</td>\n",
       "      <td>Harnischfeger Industries Inc's $19 a share ten...</td>\n",
       "      <td>30</td>\n",
       "    </tr>\n",
       "    <tr>\n",
       "      <th>6</th>\n",
       "      <td>DarrenSchuettler</td>\n",
       "      <td>The saga of Bre-X Minerals Ltd. and its rich I...</td>\n",
       "      <td>10</td>\n",
       "    </tr>\n",
       "    <tr>\n",
       "      <th>7</th>\n",
       "      <td>DavidLawder</td>\n",
       "      <td>Ford Motor Co., following several competitors ...</td>\n",
       "      <td>1</td>\n",
       "    </tr>\n",
       "    <tr>\n",
       "      <th>8</th>\n",
       "      <td>EdnaFernandes</td>\n",
       "      <td>U.S. car giant Ford Motor Co announced 1,300 j...</td>\n",
       "      <td>15</td>\n",
       "    </tr>\n",
       "    <tr>\n",
       "      <th>9</th>\n",
       "      <td>EricAuchard</td>\n",
       "      <td>New York state utility regulators Thursday app...</td>\n",
       "      <td>18</td>\n",
       "    </tr>\n",
       "    <tr>\n",
       "      <th>10</th>\n",
       "      <td>FumikoFujisaki</td>\n",
       "      <td>Two of Japan's most troubled banks took action...</td>\n",
       "      <td>21</td>\n",
       "    </tr>\n",
       "    <tr>\n",
       "      <th>11</th>\n",
       "      <td>GrahamEarnshaw</td>\n",
       "      <td>The \"Great Leap East\" in Shanghai real estate ...</td>\n",
       "      <td>27</td>\n",
       "    </tr>\n",
       "    <tr>\n",
       "      <th>12</th>\n",
       "      <td>HeatherScoffield</td>\n",
       "      <td>Canada's Barrick Gold Corp on Monday dropped o...</td>\n",
       "      <td>10</td>\n",
       "    </tr>\n",
       "    <tr>\n",
       "      <th>13</th>\n",
       "      <td>JanLopatka</td>\n",
       "      <td>The Czech opposition Social Democrats (CSSD) s...</td>\n",
       "      <td>13</td>\n",
       "    </tr>\n",
       "    <tr>\n",
       "      <th>14</th>\n",
       "      <td>JaneMacartney</td>\n",
       "      <td>Talks between China and the United States on a...</td>\n",
       "      <td>7</td>\n",
       "    </tr>\n",
       "    <tr>\n",
       "      <th>15</th>\n",
       "      <td>JimGilchrist</td>\n",
       "      <td>Illegal mobile phone use across the Chinese bo...</td>\n",
       "      <td>25</td>\n",
       "    </tr>\n",
       "    <tr>\n",
       "      <th>16</th>\n",
       "      <td>JoWinterbottom</td>\n",
       "      <td>CE Electric claimed 50.03 percent of British t...</td>\n",
       "      <td>4</td>\n",
       "    </tr>\n",
       "    <tr>\n",
       "      <th>17</th>\n",
       "      <td>JoeOrtiz</td>\n",
       "      <td>British insurance and asset management company...</td>\n",
       "      <td>15</td>\n",
       "    </tr>\n",
       "    <tr>\n",
       "      <th>18</th>\n",
       "      <td>JohnMastrini</td>\n",
       "      <td>The Czech National Bank (CNB) said on Wednesda...</td>\n",
       "      <td>13</td>\n",
       "    </tr>\n",
       "    <tr>\n",
       "      <th>19</th>\n",
       "      <td>JonathanBirt</td>\n",
       "      <td>Britain's biggest textiles group Coats Viyella...</td>\n",
       "      <td>15</td>\n",
       "    </tr>\n",
       "    <tr>\n",
       "      <th>20</th>\n",
       "      <td>KarlPenhaul</td>\n",
       "      <td>A German spoke on Wednesday of his kidnap orde...</td>\n",
       "      <td>24</td>\n",
       "    </tr>\n",
       "    <tr>\n",
       "      <th>21</th>\n",
       "      <td>KeithWeir</td>\n",
       "      <td>British media and leisure company Granada Grou...</td>\n",
       "      <td>15</td>\n",
       "    </tr>\n",
       "    <tr>\n",
       "      <th>22</th>\n",
       "      <td>KevinDrawbaugh</td>\n",
       "      <td>St. Jude Medical Inc said Thursday it will do ...</td>\n",
       "      <td>30</td>\n",
       "    </tr>\n",
       "    <tr>\n",
       "      <th>23</th>\n",
       "      <td>KevinMorrison</td>\n",
       "      <td>The long-awaited turnaround in Australia's hou...</td>\n",
       "      <td>22</td>\n",
       "    </tr>\n",
       "    <tr>\n",
       "      <th>24</th>\n",
       "      <td>KirstinRidley</td>\n",
       "      <td>Tumbling trade barriers are triggering huge te...</td>\n",
       "      <td>8</td>\n",
       "    </tr>\n",
       "    <tr>\n",
       "      <th>25</th>\n",
       "      <td>KouroshKarimkhany</td>\n",
       "      <td>Apple Computer Inc., beleaguered by rivals off...</td>\n",
       "      <td>12</td>\n",
       "    </tr>\n",
       "    <tr>\n",
       "      <th>26</th>\n",
       "      <td>LydiaZajc</td>\n",
       "      <td>Toronto's key stock index ended flat after a q...</td>\n",
       "      <td>10</td>\n",
       "    </tr>\n",
       "    <tr>\n",
       "      <th>27</th>\n",
       "      <td>LynneO'Donnell</td>\n",
       "      <td>Far East metals traders said on Monday they we...</td>\n",
       "      <td>25</td>\n",
       "    </tr>\n",
       "    <tr>\n",
       "      <th>28</th>\n",
       "      <td>LynnleyBrowning</td>\n",
       "      <td>Russia's Norilsk Nickel, an arctic industrial ...</td>\n",
       "      <td>17</td>\n",
       "    </tr>\n",
       "    <tr>\n",
       "      <th>29</th>\n",
       "      <td>MarcelMichelson</td>\n",
       "      <td>The French government on Wednesday halted the ...</td>\n",
       "      <td>26</td>\n",
       "    </tr>\n",
       "    <tr>\n",
       "      <th>30</th>\n",
       "      <td>MarkBendeich</td>\n",
       "      <td>Australia's biggest bank, National Australia B...</td>\n",
       "      <td>22</td>\n",
       "    </tr>\n",
       "    <tr>\n",
       "      <th>31</th>\n",
       "      <td>MartinWolk</td>\n",
       "      <td>Forestry giant Weyerhaeuser Co. Wednesday repo...</td>\n",
       "      <td>18</td>\n",
       "    </tr>\n",
       "    <tr>\n",
       "      <th>32</th>\n",
       "      <td>MatthewBunce</td>\n",
       "      <td>A potential new source of revenue -- oil -- of...</td>\n",
       "      <td>23</td>\n",
       "    </tr>\n",
       "    <tr>\n",
       "      <th>33</th>\n",
       "      <td>MichaelConnor</td>\n",
       "      <td>Tobacco industry lawyers Wednesday accused the...</td>\n",
       "      <td>9</td>\n",
       "    </tr>\n",
       "    <tr>\n",
       "      <th>34</th>\n",
       "      <td>MureDickie</td>\n",
       "      <td>China and the United States signed a new texti...</td>\n",
       "      <td>7</td>\n",
       "    </tr>\n",
       "    <tr>\n",
       "      <th>35</th>\n",
       "      <td>NickLouth</td>\n",
       "      <td>Eastman Kodak Co, fighting to keep its brand n...</td>\n",
       "      <td>5</td>\n",
       "    </tr>\n",
       "    <tr>\n",
       "      <th>36</th>\n",
       "      <td>PatriciaCommins</td>\n",
       "      <td>Quaker Oats Co. Thursday reported a profit for...</td>\n",
       "      <td>18</td>\n",
       "    </tr>\n",
       "    <tr>\n",
       "      <th>37</th>\n",
       "      <td>PeterHumphrey</td>\n",
       "      <td>Beijing is moving rapidly to roll back Hong Ko...</td>\n",
       "      <td>29</td>\n",
       "    </tr>\n",
       "    <tr>\n",
       "      <th>38</th>\n",
       "      <td>PierreTran</td>\n",
       "      <td>French pharmaceuticals and beauty products fir...</td>\n",
       "      <td>26</td>\n",
       "    </tr>\n",
       "    <tr>\n",
       "      <th>39</th>\n",
       "      <td>RobinSidel</td>\n",
       "      <td>ITT Corp. met with financial advisers on Thurs...</td>\n",
       "      <td>28</td>\n",
       "    </tr>\n",
       "    <tr>\n",
       "      <th>40</th>\n",
       "      <td>RogerFillion</td>\n",
       "      <td>Facing financial strains, companies that won w...</td>\n",
       "      <td>5</td>\n",
       "    </tr>\n",
       "    <tr>\n",
       "      <th>41</th>\n",
       "      <td>SamuelPerry</td>\n",
       "      <td>Novell Inc. Tuesday named Eric Schmidt, a prim...</td>\n",
       "      <td>12</td>\n",
       "    </tr>\n",
       "    <tr>\n",
       "      <th>42</th>\n",
       "      <td>SarahDavison</td>\n",
       "      <td>Increasing signs of an economic upswing in Chi...</td>\n",
       "      <td>29</td>\n",
       "    </tr>\n",
       "    <tr>\n",
       "      <th>43</th>\n",
       "      <td>ScottHillis</td>\n",
       "      <td>Busy Chinese took the death of Deng Xiaoping i...</td>\n",
       "      <td>7</td>\n",
       "    </tr>\n",
       "    <tr>\n",
       "      <th>44</th>\n",
       "      <td>SimonCowell</td>\n",
       "      <td>British insurers are jostling for position in ...</td>\n",
       "      <td>15</td>\n",
       "    </tr>\n",
       "    <tr>\n",
       "      <th>45</th>\n",
       "      <td>TanEeLyn</td>\n",
       "      <td>Hong Kong's future leader Tung Chee-hwa assure...</td>\n",
       "      <td>29</td>\n",
       "    </tr>\n",
       "    <tr>\n",
       "      <th>46</th>\n",
       "      <td>TheresePoletti</td>\n",
       "      <td>Some of Microsoft Corp.'s biggest corporate fo...</td>\n",
       "      <td>12</td>\n",
       "    </tr>\n",
       "    <tr>\n",
       "      <th>47</th>\n",
       "      <td>TimFarrand</td>\n",
       "      <td>Cider maker Matthew Clark has put a line under...</td>\n",
       "      <td>18</td>\n",
       "    </tr>\n",
       "    <tr>\n",
       "      <th>48</th>\n",
       "      <td>ToddNissen</td>\n",
       "      <td>National Transportation Safety Board (NTSB) in...</td>\n",
       "      <td>1</td>\n",
       "    </tr>\n",
       "    <tr>\n",
       "      <th>49</th>\n",
       "      <td>WilliamKazer</td>\n",
       "      <td>China's major state banks reported profits las...</td>\n",
       "      <td>7</td>\n",
       "    </tr>\n",
       "  </tbody>\n",
       "</table>\n",
       "</div>"
      ],
      "text/plain": [
       "               author                                      Combined_Text  \\\n",
       "0       AaronPressman  The U.S. government is scrambling to update th...   \n",
       "1          AlanCrosby  East European markets moved higher across the ...   \n",
       "2      AlexanderSmith  British estate agency and financial products g...   \n",
       "3     BenjaminKangLim  Beijing's new mayor on Monday vowed the battle...   \n",
       "4       BernardHickey  Brokers Were Stockbroking and ABN AMRO Hoare G...   \n",
       "5         BradDorfman  Harnischfeger Industries Inc's $19 a share ten...   \n",
       "6    DarrenSchuettler  The saga of Bre-X Minerals Ltd. and its rich I...   \n",
       "7         DavidLawder  Ford Motor Co., following several competitors ...   \n",
       "8       EdnaFernandes  U.S. car giant Ford Motor Co announced 1,300 j...   \n",
       "9         EricAuchard  New York state utility regulators Thursday app...   \n",
       "10     FumikoFujisaki  Two of Japan's most troubled banks took action...   \n",
       "11     GrahamEarnshaw  The \"Great Leap East\" in Shanghai real estate ...   \n",
       "12   HeatherScoffield  Canada's Barrick Gold Corp on Monday dropped o...   \n",
       "13         JanLopatka  The Czech opposition Social Democrats (CSSD) s...   \n",
       "14      JaneMacartney  Talks between China and the United States on a...   \n",
       "15       JimGilchrist  Illegal mobile phone use across the Chinese bo...   \n",
       "16     JoWinterbottom  CE Electric claimed 50.03 percent of British t...   \n",
       "17           JoeOrtiz  British insurance and asset management company...   \n",
       "18       JohnMastrini  The Czech National Bank (CNB) said on Wednesda...   \n",
       "19       JonathanBirt  Britain's biggest textiles group Coats Viyella...   \n",
       "20        KarlPenhaul  A German spoke on Wednesday of his kidnap orde...   \n",
       "21          KeithWeir  British media and leisure company Granada Grou...   \n",
       "22     KevinDrawbaugh  St. Jude Medical Inc said Thursday it will do ...   \n",
       "23      KevinMorrison  The long-awaited turnaround in Australia's hou...   \n",
       "24      KirstinRidley  Tumbling trade barriers are triggering huge te...   \n",
       "25  KouroshKarimkhany  Apple Computer Inc., beleaguered by rivals off...   \n",
       "26          LydiaZajc  Toronto's key stock index ended flat after a q...   \n",
       "27     LynneO'Donnell  Far East metals traders said on Monday they we...   \n",
       "28    LynnleyBrowning  Russia's Norilsk Nickel, an arctic industrial ...   \n",
       "29    MarcelMichelson  The French government on Wednesday halted the ...   \n",
       "30       MarkBendeich  Australia's biggest bank, National Australia B...   \n",
       "31         MartinWolk  Forestry giant Weyerhaeuser Co. Wednesday repo...   \n",
       "32       MatthewBunce  A potential new source of revenue -- oil -- of...   \n",
       "33      MichaelConnor  Tobacco industry lawyers Wednesday accused the...   \n",
       "34         MureDickie  China and the United States signed a new texti...   \n",
       "35          NickLouth  Eastman Kodak Co, fighting to keep its brand n...   \n",
       "36    PatriciaCommins  Quaker Oats Co. Thursday reported a profit for...   \n",
       "37      PeterHumphrey  Beijing is moving rapidly to roll back Hong Ko...   \n",
       "38         PierreTran  French pharmaceuticals and beauty products fir...   \n",
       "39         RobinSidel  ITT Corp. met with financial advisers on Thurs...   \n",
       "40       RogerFillion  Facing financial strains, companies that won w...   \n",
       "41        SamuelPerry  Novell Inc. Tuesday named Eric Schmidt, a prim...   \n",
       "42       SarahDavison  Increasing signs of an economic upswing in Chi...   \n",
       "43        ScottHillis  Busy Chinese took the death of Deng Xiaoping i...   \n",
       "44        SimonCowell  British insurers are jostling for position in ...   \n",
       "45           TanEeLyn  Hong Kong's future leader Tung Chee-hwa assure...   \n",
       "46     TheresePoletti  Some of Microsoft Corp.'s biggest corporate fo...   \n",
       "47         TimFarrand  Cider maker Matthew Clark has put a line under...   \n",
       "48         ToddNissen  National Transportation Safety Board (NTSB) in...   \n",
       "49       WilliamKazer  China's major state banks reported profits las...   \n",
       "\n",
       "    Predicted_Topic  \n",
       "0                12  \n",
       "1                13  \n",
       "2                15  \n",
       "3                 7  \n",
       "4                22  \n",
       "5                30  \n",
       "6                10  \n",
       "7                 1  \n",
       "8                15  \n",
       "9                18  \n",
       "10               21  \n",
       "11               27  \n",
       "12               10  \n",
       "13               13  \n",
       "14                7  \n",
       "15               25  \n",
       "16                4  \n",
       "17               15  \n",
       "18               13  \n",
       "19               15  \n",
       "20               24  \n",
       "21               15  \n",
       "22               30  \n",
       "23               22  \n",
       "24                8  \n",
       "25               12  \n",
       "26               10  \n",
       "27               25  \n",
       "28               17  \n",
       "29               26  \n",
       "30               22  \n",
       "31               18  \n",
       "32               23  \n",
       "33                9  \n",
       "34                7  \n",
       "35                5  \n",
       "36               18  \n",
       "37               29  \n",
       "38               26  \n",
       "39               28  \n",
       "40                5  \n",
       "41               12  \n",
       "42               29  \n",
       "43                7  \n",
       "44               15  \n",
       "45               29  \n",
       "46               12  \n",
       "47               18  \n",
       "48                1  \n",
       "49                7  "
      ]
     },
     "execution_count": 13,
     "metadata": {},
     "output_type": "execute_result"
    }
   ],
   "source": [
    "# Function to predict the most likely topic for a new document\n",
    "def determine_topic(document):\n",
    "    # Convert the document into a list\n",
    "    doc_as_list = [document]\n",
    "    \n",
    "    # Vectorize the new document using the same vectorizer\n",
    "    doc_vectorized = vectorizer.transform(doc_as_list)\n",
    "    \n",
    "    # Get the topic distribution for the new document\n",
    "    doc_topic_distribution = lda_model.transform(doc_vectorized)\n",
    "    \n",
    "    # Determine the topic with the highest probability\n",
    "    for prob_distribution in doc_topic_distribution:\n",
    "        highest_probability = max(prob_distribution)\n",
    "        for idx, probability in enumerate(prob_distribution):\n",
    "            if probability == highest_probability:\n",
    "                assigned_topic = topic_word_mapping[idx][0]\n",
    "    return assigned_topic\n",
    "\n",
    "\n",
    "# Group the test set by Author and File and combine text content\n",
    "test_set_grouped = test_df.groupby(['author']).agg(\n",
    "    Combined_Text = pd.NamedAgg(column='document', aggfunc=''.join)\n",
    ")\n",
    "\n",
    "# Reset the index of the grouped DataFrame\n",
    "test_set_grouped = test_set_grouped.reset_index(drop=False)\n",
    "\n",
    "# Apply the topic prediction function to the combined text\n",
    "test_set_grouped['Predicted_Topic'] = test_set_grouped['Combined_Text'].apply(lambda text: determine_topic(text))\n",
    "\n",
    "# Display the test set with predicted topics\n",
    "test_set_grouped"
   ]
  },
  {
   "cell_type": "code",
   "execution_count": 14,
   "metadata": {},
   "outputs": [
    {
     "data": {
      "text/plain": [
       "Predicted_Topic  count\n",
       "1                2        1\n",
       "4                1        1\n",
       "29               3        1\n",
       "28               1        1\n",
       "27               1        1\n",
       "26               2        1\n",
       "25               2        1\n",
       "24               1        1\n",
       "23               1        1\n",
       "22               3        1\n",
       "21               1        1\n",
       "18               4        1\n",
       "17               1        1\n",
       "15               6        1\n",
       "13               3        1\n",
       "12               4        1\n",
       "10               3        1\n",
       "9                1        1\n",
       "8                1        1\n",
       "7                5        1\n",
       "5                2        1\n",
       "30               2        1\n",
       "Name: count, dtype: int64"
      ]
     },
     "execution_count": 14,
     "metadata": {},
     "output_type": "execute_result"
    }
   ],
   "source": [
    "df_freq = pd.DataFrame(test_set_grouped['Predicted_Topic'].value_counts()).reset_index(drop=False)\n",
    "df_freq.value_counts()"
   ]
  },
  {
   "cell_type": "code",
   "execution_count": 15,
   "metadata": {},
   "outputs": [
    {
     "data": {
      "application/vnd.plotly.v1+json": {
       "config": {
        "plotlyServerURL": "https://plot.ly"
       },
       "data": [
        {
         "alignmentgroup": "True",
         "hovertemplate": "Predicted_Topic=%{x}<br>Value_Count=%{y}<extra></extra>",
         "legendgroup": "",
         "marker": {
          "color": "#636efa",
          "pattern": {
           "shape": ""
          }
         },
         "name": "",
         "offsetgroup": "",
         "orientation": "v",
         "showlegend": false,
         "textposition": "auto",
         "type": "bar",
         "x": [
          15,
          7,
          12,
          18,
          13,
          22,
          29,
          10,
          25,
          30,
          1,
          26,
          5,
          27,
          4,
          24,
          8,
          17,
          21,
          23,
          9,
          28
         ],
         "xaxis": "x",
         "y": [
          6,
          5,
          4,
          4,
          3,
          3,
          3,
          3,
          2,
          2,
          2,
          2,
          2,
          1,
          1,
          1,
          1,
          1,
          1,
          1,
          1,
          1
         ],
         "yaxis": "y"
        }
       ],
       "layout": {
        "barmode": "relative",
        "legend": {
         "tracegroupgap": 0
        },
        "template": {
         "data": {
          "bar": [
           {
            "error_x": {
             "color": "#2a3f5f"
            },
            "error_y": {
             "color": "#2a3f5f"
            },
            "marker": {
             "line": {
              "color": "#E5ECF6",
              "width": 0.5
             },
             "pattern": {
              "fillmode": "overlay",
              "size": 10,
              "solidity": 0.2
             }
            },
            "type": "bar"
           }
          ],
          "barpolar": [
           {
            "marker": {
             "line": {
              "color": "#E5ECF6",
              "width": 0.5
             },
             "pattern": {
              "fillmode": "overlay",
              "size": 10,
              "solidity": 0.2
             }
            },
            "type": "barpolar"
           }
          ],
          "carpet": [
           {
            "aaxis": {
             "endlinecolor": "#2a3f5f",
             "gridcolor": "white",
             "linecolor": "white",
             "minorgridcolor": "white",
             "startlinecolor": "#2a3f5f"
            },
            "baxis": {
             "endlinecolor": "#2a3f5f",
             "gridcolor": "white",
             "linecolor": "white",
             "minorgridcolor": "white",
             "startlinecolor": "#2a3f5f"
            },
            "type": "carpet"
           }
          ],
          "choropleth": [
           {
            "colorbar": {
             "outlinewidth": 0,
             "ticks": ""
            },
            "type": "choropleth"
           }
          ],
          "contour": [
           {
            "colorbar": {
             "outlinewidth": 0,
             "ticks": ""
            },
            "colorscale": [
             [
              0,
              "#0d0887"
             ],
             [
              0.1111111111111111,
              "#46039f"
             ],
             [
              0.2222222222222222,
              "#7201a8"
             ],
             [
              0.3333333333333333,
              "#9c179e"
             ],
             [
              0.4444444444444444,
              "#bd3786"
             ],
             [
              0.5555555555555556,
              "#d8576b"
             ],
             [
              0.6666666666666666,
              "#ed7953"
             ],
             [
              0.7777777777777778,
              "#fb9f3a"
             ],
             [
              0.8888888888888888,
              "#fdca26"
             ],
             [
              1,
              "#f0f921"
             ]
            ],
            "type": "contour"
           }
          ],
          "contourcarpet": [
           {
            "colorbar": {
             "outlinewidth": 0,
             "ticks": ""
            },
            "type": "contourcarpet"
           }
          ],
          "heatmap": [
           {
            "colorbar": {
             "outlinewidth": 0,
             "ticks": ""
            },
            "colorscale": [
             [
              0,
              "#0d0887"
             ],
             [
              0.1111111111111111,
              "#46039f"
             ],
             [
              0.2222222222222222,
              "#7201a8"
             ],
             [
              0.3333333333333333,
              "#9c179e"
             ],
             [
              0.4444444444444444,
              "#bd3786"
             ],
             [
              0.5555555555555556,
              "#d8576b"
             ],
             [
              0.6666666666666666,
              "#ed7953"
             ],
             [
              0.7777777777777778,
              "#fb9f3a"
             ],
             [
              0.8888888888888888,
              "#fdca26"
             ],
             [
              1,
              "#f0f921"
             ]
            ],
            "type": "heatmap"
           }
          ],
          "heatmapgl": [
           {
            "colorbar": {
             "outlinewidth": 0,
             "ticks": ""
            },
            "colorscale": [
             [
              0,
              "#0d0887"
             ],
             [
              0.1111111111111111,
              "#46039f"
             ],
             [
              0.2222222222222222,
              "#7201a8"
             ],
             [
              0.3333333333333333,
              "#9c179e"
             ],
             [
              0.4444444444444444,
              "#bd3786"
             ],
             [
              0.5555555555555556,
              "#d8576b"
             ],
             [
              0.6666666666666666,
              "#ed7953"
             ],
             [
              0.7777777777777778,
              "#fb9f3a"
             ],
             [
              0.8888888888888888,
              "#fdca26"
             ],
             [
              1,
              "#f0f921"
             ]
            ],
            "type": "heatmapgl"
           }
          ],
          "histogram": [
           {
            "marker": {
             "pattern": {
              "fillmode": "overlay",
              "size": 10,
              "solidity": 0.2
             }
            },
            "type": "histogram"
           }
          ],
          "histogram2d": [
           {
            "colorbar": {
             "outlinewidth": 0,
             "ticks": ""
            },
            "colorscale": [
             [
              0,
              "#0d0887"
             ],
             [
              0.1111111111111111,
              "#46039f"
             ],
             [
              0.2222222222222222,
              "#7201a8"
             ],
             [
              0.3333333333333333,
              "#9c179e"
             ],
             [
              0.4444444444444444,
              "#bd3786"
             ],
             [
              0.5555555555555556,
              "#d8576b"
             ],
             [
              0.6666666666666666,
              "#ed7953"
             ],
             [
              0.7777777777777778,
              "#fb9f3a"
             ],
             [
              0.8888888888888888,
              "#fdca26"
             ],
             [
              1,
              "#f0f921"
             ]
            ],
            "type": "histogram2d"
           }
          ],
          "histogram2dcontour": [
           {
            "colorbar": {
             "outlinewidth": 0,
             "ticks": ""
            },
            "colorscale": [
             [
              0,
              "#0d0887"
             ],
             [
              0.1111111111111111,
              "#46039f"
             ],
             [
              0.2222222222222222,
              "#7201a8"
             ],
             [
              0.3333333333333333,
              "#9c179e"
             ],
             [
              0.4444444444444444,
              "#bd3786"
             ],
             [
              0.5555555555555556,
              "#d8576b"
             ],
             [
              0.6666666666666666,
              "#ed7953"
             ],
             [
              0.7777777777777778,
              "#fb9f3a"
             ],
             [
              0.8888888888888888,
              "#fdca26"
             ],
             [
              1,
              "#f0f921"
             ]
            ],
            "type": "histogram2dcontour"
           }
          ],
          "mesh3d": [
           {
            "colorbar": {
             "outlinewidth": 0,
             "ticks": ""
            },
            "type": "mesh3d"
           }
          ],
          "parcoords": [
           {
            "line": {
             "colorbar": {
              "outlinewidth": 0,
              "ticks": ""
             }
            },
            "type": "parcoords"
           }
          ],
          "pie": [
           {
            "automargin": true,
            "type": "pie"
           }
          ],
          "scatter": [
           {
            "fillpattern": {
             "fillmode": "overlay",
             "size": 10,
             "solidity": 0.2
            },
            "type": "scatter"
           }
          ],
          "scatter3d": [
           {
            "line": {
             "colorbar": {
              "outlinewidth": 0,
              "ticks": ""
             }
            },
            "marker": {
             "colorbar": {
              "outlinewidth": 0,
              "ticks": ""
             }
            },
            "type": "scatter3d"
           }
          ],
          "scattercarpet": [
           {
            "marker": {
             "colorbar": {
              "outlinewidth": 0,
              "ticks": ""
             }
            },
            "type": "scattercarpet"
           }
          ],
          "scattergeo": [
           {
            "marker": {
             "colorbar": {
              "outlinewidth": 0,
              "ticks": ""
             }
            },
            "type": "scattergeo"
           }
          ],
          "scattergl": [
           {
            "marker": {
             "colorbar": {
              "outlinewidth": 0,
              "ticks": ""
             }
            },
            "type": "scattergl"
           }
          ],
          "scattermapbox": [
           {
            "marker": {
             "colorbar": {
              "outlinewidth": 0,
              "ticks": ""
             }
            },
            "type": "scattermapbox"
           }
          ],
          "scatterpolar": [
           {
            "marker": {
             "colorbar": {
              "outlinewidth": 0,
              "ticks": ""
             }
            },
            "type": "scatterpolar"
           }
          ],
          "scatterpolargl": [
           {
            "marker": {
             "colorbar": {
              "outlinewidth": 0,
              "ticks": ""
             }
            },
            "type": "scatterpolargl"
           }
          ],
          "scatterternary": [
           {
            "marker": {
             "colorbar": {
              "outlinewidth": 0,
              "ticks": ""
             }
            },
            "type": "scatterternary"
           }
          ],
          "surface": [
           {
            "colorbar": {
             "outlinewidth": 0,
             "ticks": ""
            },
            "colorscale": [
             [
              0,
              "#0d0887"
             ],
             [
              0.1111111111111111,
              "#46039f"
             ],
             [
              0.2222222222222222,
              "#7201a8"
             ],
             [
              0.3333333333333333,
              "#9c179e"
             ],
             [
              0.4444444444444444,
              "#bd3786"
             ],
             [
              0.5555555555555556,
              "#d8576b"
             ],
             [
              0.6666666666666666,
              "#ed7953"
             ],
             [
              0.7777777777777778,
              "#fb9f3a"
             ],
             [
              0.8888888888888888,
              "#fdca26"
             ],
             [
              1,
              "#f0f921"
             ]
            ],
            "type": "surface"
           }
          ],
          "table": [
           {
            "cells": {
             "fill": {
              "color": "#EBF0F8"
             },
             "line": {
              "color": "white"
             }
            },
            "header": {
             "fill": {
              "color": "#C8D4E3"
             },
             "line": {
              "color": "white"
             }
            },
            "type": "table"
           }
          ]
         },
         "layout": {
          "annotationdefaults": {
           "arrowcolor": "#2a3f5f",
           "arrowhead": 0,
           "arrowwidth": 1
          },
          "autotypenumbers": "strict",
          "coloraxis": {
           "colorbar": {
            "outlinewidth": 0,
            "ticks": ""
           }
          },
          "colorscale": {
           "diverging": [
            [
             0,
             "#8e0152"
            ],
            [
             0.1,
             "#c51b7d"
            ],
            [
             0.2,
             "#de77ae"
            ],
            [
             0.3,
             "#f1b6da"
            ],
            [
             0.4,
             "#fde0ef"
            ],
            [
             0.5,
             "#f7f7f7"
            ],
            [
             0.6,
             "#e6f5d0"
            ],
            [
             0.7,
             "#b8e186"
            ],
            [
             0.8,
             "#7fbc41"
            ],
            [
             0.9,
             "#4d9221"
            ],
            [
             1,
             "#276419"
            ]
           ],
           "sequential": [
            [
             0,
             "#0d0887"
            ],
            [
             0.1111111111111111,
             "#46039f"
            ],
            [
             0.2222222222222222,
             "#7201a8"
            ],
            [
             0.3333333333333333,
             "#9c179e"
            ],
            [
             0.4444444444444444,
             "#bd3786"
            ],
            [
             0.5555555555555556,
             "#d8576b"
            ],
            [
             0.6666666666666666,
             "#ed7953"
            ],
            [
             0.7777777777777778,
             "#fb9f3a"
            ],
            [
             0.8888888888888888,
             "#fdca26"
            ],
            [
             1,
             "#f0f921"
            ]
           ],
           "sequentialminus": [
            [
             0,
             "#0d0887"
            ],
            [
             0.1111111111111111,
             "#46039f"
            ],
            [
             0.2222222222222222,
             "#7201a8"
            ],
            [
             0.3333333333333333,
             "#9c179e"
            ],
            [
             0.4444444444444444,
             "#bd3786"
            ],
            [
             0.5555555555555556,
             "#d8576b"
            ],
            [
             0.6666666666666666,
             "#ed7953"
            ],
            [
             0.7777777777777778,
             "#fb9f3a"
            ],
            [
             0.8888888888888888,
             "#fdca26"
            ],
            [
             1,
             "#f0f921"
            ]
           ]
          },
          "colorway": [
           "#636efa",
           "#EF553B",
           "#00cc96",
           "#ab63fa",
           "#FFA15A",
           "#19d3f3",
           "#FF6692",
           "#B6E880",
           "#FF97FF",
           "#FECB52"
          ],
          "font": {
           "color": "#2a3f5f"
          },
          "geo": {
           "bgcolor": "white",
           "lakecolor": "white",
           "landcolor": "#E5ECF6",
           "showlakes": true,
           "showland": true,
           "subunitcolor": "white"
          },
          "hoverlabel": {
           "align": "left"
          },
          "hovermode": "closest",
          "mapbox": {
           "style": "light"
          },
          "paper_bgcolor": "white",
          "plot_bgcolor": "#E5ECF6",
          "polar": {
           "angularaxis": {
            "gridcolor": "white",
            "linecolor": "white",
            "ticks": ""
           },
           "bgcolor": "#E5ECF6",
           "radialaxis": {
            "gridcolor": "white",
            "linecolor": "white",
            "ticks": ""
           }
          },
          "scene": {
           "xaxis": {
            "backgroundcolor": "#E5ECF6",
            "gridcolor": "white",
            "gridwidth": 2,
            "linecolor": "white",
            "showbackground": true,
            "ticks": "",
            "zerolinecolor": "white"
           },
           "yaxis": {
            "backgroundcolor": "#E5ECF6",
            "gridcolor": "white",
            "gridwidth": 2,
            "linecolor": "white",
            "showbackground": true,
            "ticks": "",
            "zerolinecolor": "white"
           },
           "zaxis": {
            "backgroundcolor": "#E5ECF6",
            "gridcolor": "white",
            "gridwidth": 2,
            "linecolor": "white",
            "showbackground": true,
            "ticks": "",
            "zerolinecolor": "white"
           }
          },
          "shapedefaults": {
           "line": {
            "color": "#2a3f5f"
           }
          },
          "ternary": {
           "aaxis": {
            "gridcolor": "white",
            "linecolor": "white",
            "ticks": ""
           },
           "baxis": {
            "gridcolor": "white",
            "linecolor": "white",
            "ticks": ""
           },
           "bgcolor": "#E5ECF6",
           "caxis": {
            "gridcolor": "white",
            "linecolor": "white",
            "ticks": ""
           }
          },
          "title": {
           "x": 0.05
          },
          "xaxis": {
           "automargin": true,
           "gridcolor": "white",
           "linecolor": "white",
           "ticks": "",
           "title": {
            "standoff": 15
           },
           "zerolinecolor": "white",
           "zerolinewidth": 2
          },
          "yaxis": {
           "automargin": true,
           "gridcolor": "white",
           "linecolor": "white",
           "ticks": "",
           "title": {
            "standoff": 15
           },
           "zerolinecolor": "white",
           "zerolinewidth": 2
          }
         }
        },
        "title": {
         "text": "Test Set Frequency Count"
        },
        "xaxis": {
         "anchor": "y",
         "domain": [
          0,
          1
         ],
         "tickmode": "array",
         "ticktext": [
          15,
          7,
          12,
          18,
          13,
          22,
          29,
          10,
          25,
          30,
          1,
          26,
          5,
          27,
          4,
          24,
          8,
          17,
          21,
          23,
          9,
          28
         ],
         "tickvals": [
          15,
          7,
          12,
          18,
          13,
          22,
          29,
          10,
          25,
          30,
          1,
          26,
          5,
          27,
          4,
          24,
          8,
          17,
          21,
          23,
          9,
          28
         ],
         "title": {
          "text": "Identified Topic"
         }
        },
        "yaxis": {
         "anchor": "x",
         "domain": [
          0,
          1
         ],
         "title": {
          "text": "Frequency"
         }
        }
       }
      }
     },
     "metadata": {},
     "output_type": "display_data"
    }
   ],
   "source": [
    "df_freq = pd.DataFrame(test_set_grouped['Predicted_Topic'].value_counts()).reset_index(drop=False)\n",
    "df_freq = df_freq.rename(columns={'index':'Predicted_Topic', 'count':'Value_Count'})\n",
    "df_freq = df_freq.astype({'Predicted_Topic': object})\n",
    "df_freq = df_freq.sort_values('Value_Count', ascending=False)\n",
    "\n",
    "fig = px.bar(df_freq, x='Predicted_Topic', y=\"Value_Count\", title='Test Set Frequency Count')\n",
    "fig.update_layout(\n",
    "    xaxis = dict(\n",
    "        tickmode = 'array',\n",
    "        tickvals = df_freq['Predicted_Topic'],\n",
    "        ticktext = df_freq['Predicted_Topic'],\n",
    "        title = \"Identified Topic\"\n",
    "    ),\n",
    "    yaxis_title=\"Frequency\",\n",
    "    title='Test Set Frequency Count'\n",
    ")\n",
    "\n",
    "fig.show()"
   ]
  },
  {
   "cell_type": "code",
   "execution_count": 16,
   "metadata": {},
   "outputs": [
    {
     "data": {
      "application/vnd.plotly.v1+json": {
       "config": {
        "plotlyServerURL": "https://plot.ly"
       },
       "data": [
        {
         "alignmentgroup": "True",
         "hovertemplate": "author=%{x}<br>Predicted_Topic=%{y}<extra></extra>",
         "legendgroup": "",
         "marker": {
          "color": "#636efa",
          "pattern": {
           "shape": ""
          }
         },
         "name": "",
         "offsetgroup": "",
         "orientation": "v",
         "showlegend": false,
         "textposition": "auto",
         "type": "bar",
         "x": [
          "AaronPressman",
          "AlanCrosby",
          "AlexanderSmith",
          "BenjaminKangLim",
          "BernardHickey",
          "BradDorfman",
          "DarrenSchuettler",
          "DavidLawder",
          "EdnaFernandes",
          "EricAuchard",
          "FumikoFujisaki",
          "GrahamEarnshaw",
          "HeatherScoffield",
          "JanLopatka",
          "JaneMacartney",
          "JimGilchrist",
          "JoWinterbottom",
          "JoeOrtiz",
          "JohnMastrini",
          "JonathanBirt",
          "KarlPenhaul",
          "KeithWeir",
          "KevinDrawbaugh",
          "KevinMorrison",
          "KirstinRidley",
          "KouroshKarimkhany",
          "LydiaZajc",
          "LynneO'Donnell",
          "LynnleyBrowning",
          "MarcelMichelson",
          "MarkBendeich",
          "MartinWolk",
          "MatthewBunce",
          "MichaelConnor",
          "MureDickie",
          "NickLouth",
          "PatriciaCommins",
          "PeterHumphrey",
          "PierreTran",
          "RobinSidel",
          "RogerFillion",
          "SamuelPerry",
          "SarahDavison",
          "ScottHillis",
          "SimonCowell",
          "TanEeLyn",
          "TheresePoletti",
          "TimFarrand",
          "ToddNissen",
          "WilliamKazer"
         ],
         "xaxis": "x",
         "y": [
          12,
          13,
          15,
          7,
          22,
          30,
          10,
          1,
          15,
          18,
          21,
          27,
          10,
          13,
          7,
          25,
          4,
          15,
          13,
          15,
          24,
          15,
          30,
          22,
          8,
          12,
          10,
          25,
          17,
          26,
          22,
          18,
          23,
          9,
          7,
          5,
          18,
          29,
          26,
          28,
          5,
          12,
          29,
          7,
          15,
          29,
          12,
          18,
          1,
          7
         ],
         "yaxis": "y"
        }
       ],
       "layout": {
        "barmode": "relative",
        "legend": {
         "tracegroupgap": 0
        },
        "template": {
         "data": {
          "bar": [
           {
            "error_x": {
             "color": "#2a3f5f"
            },
            "error_y": {
             "color": "#2a3f5f"
            },
            "marker": {
             "line": {
              "color": "#E5ECF6",
              "width": 0.5
             },
             "pattern": {
              "fillmode": "overlay",
              "size": 10,
              "solidity": 0.2
             }
            },
            "type": "bar"
           }
          ],
          "barpolar": [
           {
            "marker": {
             "line": {
              "color": "#E5ECF6",
              "width": 0.5
             },
             "pattern": {
              "fillmode": "overlay",
              "size": 10,
              "solidity": 0.2
             }
            },
            "type": "barpolar"
           }
          ],
          "carpet": [
           {
            "aaxis": {
             "endlinecolor": "#2a3f5f",
             "gridcolor": "white",
             "linecolor": "white",
             "minorgridcolor": "white",
             "startlinecolor": "#2a3f5f"
            },
            "baxis": {
             "endlinecolor": "#2a3f5f",
             "gridcolor": "white",
             "linecolor": "white",
             "minorgridcolor": "white",
             "startlinecolor": "#2a3f5f"
            },
            "type": "carpet"
           }
          ],
          "choropleth": [
           {
            "colorbar": {
             "outlinewidth": 0,
             "ticks": ""
            },
            "type": "choropleth"
           }
          ],
          "contour": [
           {
            "colorbar": {
             "outlinewidth": 0,
             "ticks": ""
            },
            "colorscale": [
             [
              0,
              "#0d0887"
             ],
             [
              0.1111111111111111,
              "#46039f"
             ],
             [
              0.2222222222222222,
              "#7201a8"
             ],
             [
              0.3333333333333333,
              "#9c179e"
             ],
             [
              0.4444444444444444,
              "#bd3786"
             ],
             [
              0.5555555555555556,
              "#d8576b"
             ],
             [
              0.6666666666666666,
              "#ed7953"
             ],
             [
              0.7777777777777778,
              "#fb9f3a"
             ],
             [
              0.8888888888888888,
              "#fdca26"
             ],
             [
              1,
              "#f0f921"
             ]
            ],
            "type": "contour"
           }
          ],
          "contourcarpet": [
           {
            "colorbar": {
             "outlinewidth": 0,
             "ticks": ""
            },
            "type": "contourcarpet"
           }
          ],
          "heatmap": [
           {
            "colorbar": {
             "outlinewidth": 0,
             "ticks": ""
            },
            "colorscale": [
             [
              0,
              "#0d0887"
             ],
             [
              0.1111111111111111,
              "#46039f"
             ],
             [
              0.2222222222222222,
              "#7201a8"
             ],
             [
              0.3333333333333333,
              "#9c179e"
             ],
             [
              0.4444444444444444,
              "#bd3786"
             ],
             [
              0.5555555555555556,
              "#d8576b"
             ],
             [
              0.6666666666666666,
              "#ed7953"
             ],
             [
              0.7777777777777778,
              "#fb9f3a"
             ],
             [
              0.8888888888888888,
              "#fdca26"
             ],
             [
              1,
              "#f0f921"
             ]
            ],
            "type": "heatmap"
           }
          ],
          "heatmapgl": [
           {
            "colorbar": {
             "outlinewidth": 0,
             "ticks": ""
            },
            "colorscale": [
             [
              0,
              "#0d0887"
             ],
             [
              0.1111111111111111,
              "#46039f"
             ],
             [
              0.2222222222222222,
              "#7201a8"
             ],
             [
              0.3333333333333333,
              "#9c179e"
             ],
             [
              0.4444444444444444,
              "#bd3786"
             ],
             [
              0.5555555555555556,
              "#d8576b"
             ],
             [
              0.6666666666666666,
              "#ed7953"
             ],
             [
              0.7777777777777778,
              "#fb9f3a"
             ],
             [
              0.8888888888888888,
              "#fdca26"
             ],
             [
              1,
              "#f0f921"
             ]
            ],
            "type": "heatmapgl"
           }
          ],
          "histogram": [
           {
            "marker": {
             "pattern": {
              "fillmode": "overlay",
              "size": 10,
              "solidity": 0.2
             }
            },
            "type": "histogram"
           }
          ],
          "histogram2d": [
           {
            "colorbar": {
             "outlinewidth": 0,
             "ticks": ""
            },
            "colorscale": [
             [
              0,
              "#0d0887"
             ],
             [
              0.1111111111111111,
              "#46039f"
             ],
             [
              0.2222222222222222,
              "#7201a8"
             ],
             [
              0.3333333333333333,
              "#9c179e"
             ],
             [
              0.4444444444444444,
              "#bd3786"
             ],
             [
              0.5555555555555556,
              "#d8576b"
             ],
             [
              0.6666666666666666,
              "#ed7953"
             ],
             [
              0.7777777777777778,
              "#fb9f3a"
             ],
             [
              0.8888888888888888,
              "#fdca26"
             ],
             [
              1,
              "#f0f921"
             ]
            ],
            "type": "histogram2d"
           }
          ],
          "histogram2dcontour": [
           {
            "colorbar": {
             "outlinewidth": 0,
             "ticks": ""
            },
            "colorscale": [
             [
              0,
              "#0d0887"
             ],
             [
              0.1111111111111111,
              "#46039f"
             ],
             [
              0.2222222222222222,
              "#7201a8"
             ],
             [
              0.3333333333333333,
              "#9c179e"
             ],
             [
              0.4444444444444444,
              "#bd3786"
             ],
             [
              0.5555555555555556,
              "#d8576b"
             ],
             [
              0.6666666666666666,
              "#ed7953"
             ],
             [
              0.7777777777777778,
              "#fb9f3a"
             ],
             [
              0.8888888888888888,
              "#fdca26"
             ],
             [
              1,
              "#f0f921"
             ]
            ],
            "type": "histogram2dcontour"
           }
          ],
          "mesh3d": [
           {
            "colorbar": {
             "outlinewidth": 0,
             "ticks": ""
            },
            "type": "mesh3d"
           }
          ],
          "parcoords": [
           {
            "line": {
             "colorbar": {
              "outlinewidth": 0,
              "ticks": ""
             }
            },
            "type": "parcoords"
           }
          ],
          "pie": [
           {
            "automargin": true,
            "type": "pie"
           }
          ],
          "scatter": [
           {
            "fillpattern": {
             "fillmode": "overlay",
             "size": 10,
             "solidity": 0.2
            },
            "type": "scatter"
           }
          ],
          "scatter3d": [
           {
            "line": {
             "colorbar": {
              "outlinewidth": 0,
              "ticks": ""
             }
            },
            "marker": {
             "colorbar": {
              "outlinewidth": 0,
              "ticks": ""
             }
            },
            "type": "scatter3d"
           }
          ],
          "scattercarpet": [
           {
            "marker": {
             "colorbar": {
              "outlinewidth": 0,
              "ticks": ""
             }
            },
            "type": "scattercarpet"
           }
          ],
          "scattergeo": [
           {
            "marker": {
             "colorbar": {
              "outlinewidth": 0,
              "ticks": ""
             }
            },
            "type": "scattergeo"
           }
          ],
          "scattergl": [
           {
            "marker": {
             "colorbar": {
              "outlinewidth": 0,
              "ticks": ""
             }
            },
            "type": "scattergl"
           }
          ],
          "scattermapbox": [
           {
            "marker": {
             "colorbar": {
              "outlinewidth": 0,
              "ticks": ""
             }
            },
            "type": "scattermapbox"
           }
          ],
          "scatterpolar": [
           {
            "marker": {
             "colorbar": {
              "outlinewidth": 0,
              "ticks": ""
             }
            },
            "type": "scatterpolar"
           }
          ],
          "scatterpolargl": [
           {
            "marker": {
             "colorbar": {
              "outlinewidth": 0,
              "ticks": ""
             }
            },
            "type": "scatterpolargl"
           }
          ],
          "scatterternary": [
           {
            "marker": {
             "colorbar": {
              "outlinewidth": 0,
              "ticks": ""
             }
            },
            "type": "scatterternary"
           }
          ],
          "surface": [
           {
            "colorbar": {
             "outlinewidth": 0,
             "ticks": ""
            },
            "colorscale": [
             [
              0,
              "#0d0887"
             ],
             [
              0.1111111111111111,
              "#46039f"
             ],
             [
              0.2222222222222222,
              "#7201a8"
             ],
             [
              0.3333333333333333,
              "#9c179e"
             ],
             [
              0.4444444444444444,
              "#bd3786"
             ],
             [
              0.5555555555555556,
              "#d8576b"
             ],
             [
              0.6666666666666666,
              "#ed7953"
             ],
             [
              0.7777777777777778,
              "#fb9f3a"
             ],
             [
              0.8888888888888888,
              "#fdca26"
             ],
             [
              1,
              "#f0f921"
             ]
            ],
            "type": "surface"
           }
          ],
          "table": [
           {
            "cells": {
             "fill": {
              "color": "#EBF0F8"
             },
             "line": {
              "color": "white"
             }
            },
            "header": {
             "fill": {
              "color": "#C8D4E3"
             },
             "line": {
              "color": "white"
             }
            },
            "type": "table"
           }
          ]
         },
         "layout": {
          "annotationdefaults": {
           "arrowcolor": "#2a3f5f",
           "arrowhead": 0,
           "arrowwidth": 1
          },
          "autotypenumbers": "strict",
          "coloraxis": {
           "colorbar": {
            "outlinewidth": 0,
            "ticks": ""
           }
          },
          "colorscale": {
           "diverging": [
            [
             0,
             "#8e0152"
            ],
            [
             0.1,
             "#c51b7d"
            ],
            [
             0.2,
             "#de77ae"
            ],
            [
             0.3,
             "#f1b6da"
            ],
            [
             0.4,
             "#fde0ef"
            ],
            [
             0.5,
             "#f7f7f7"
            ],
            [
             0.6,
             "#e6f5d0"
            ],
            [
             0.7,
             "#b8e186"
            ],
            [
             0.8,
             "#7fbc41"
            ],
            [
             0.9,
             "#4d9221"
            ],
            [
             1,
             "#276419"
            ]
           ],
           "sequential": [
            [
             0,
             "#0d0887"
            ],
            [
             0.1111111111111111,
             "#46039f"
            ],
            [
             0.2222222222222222,
             "#7201a8"
            ],
            [
             0.3333333333333333,
             "#9c179e"
            ],
            [
             0.4444444444444444,
             "#bd3786"
            ],
            [
             0.5555555555555556,
             "#d8576b"
            ],
            [
             0.6666666666666666,
             "#ed7953"
            ],
            [
             0.7777777777777778,
             "#fb9f3a"
            ],
            [
             0.8888888888888888,
             "#fdca26"
            ],
            [
             1,
             "#f0f921"
            ]
           ],
           "sequentialminus": [
            [
             0,
             "#0d0887"
            ],
            [
             0.1111111111111111,
             "#46039f"
            ],
            [
             0.2222222222222222,
             "#7201a8"
            ],
            [
             0.3333333333333333,
             "#9c179e"
            ],
            [
             0.4444444444444444,
             "#bd3786"
            ],
            [
             0.5555555555555556,
             "#d8576b"
            ],
            [
             0.6666666666666666,
             "#ed7953"
            ],
            [
             0.7777777777777778,
             "#fb9f3a"
            ],
            [
             0.8888888888888888,
             "#fdca26"
            ],
            [
             1,
             "#f0f921"
            ]
           ]
          },
          "colorway": [
           "#636efa",
           "#EF553B",
           "#00cc96",
           "#ab63fa",
           "#FFA15A",
           "#19d3f3",
           "#FF6692",
           "#B6E880",
           "#FF97FF",
           "#FECB52"
          ],
          "font": {
           "color": "#2a3f5f"
          },
          "geo": {
           "bgcolor": "white",
           "lakecolor": "white",
           "landcolor": "#E5ECF6",
           "showlakes": true,
           "showland": true,
           "subunitcolor": "white"
          },
          "hoverlabel": {
           "align": "left"
          },
          "hovermode": "closest",
          "mapbox": {
           "style": "light"
          },
          "paper_bgcolor": "white",
          "plot_bgcolor": "#E5ECF6",
          "polar": {
           "angularaxis": {
            "gridcolor": "white",
            "linecolor": "white",
            "ticks": ""
           },
           "bgcolor": "#E5ECF6",
           "radialaxis": {
            "gridcolor": "white",
            "linecolor": "white",
            "ticks": ""
           }
          },
          "scene": {
           "xaxis": {
            "backgroundcolor": "#E5ECF6",
            "gridcolor": "white",
            "gridwidth": 2,
            "linecolor": "white",
            "showbackground": true,
            "ticks": "",
            "zerolinecolor": "white"
           },
           "yaxis": {
            "backgroundcolor": "#E5ECF6",
            "gridcolor": "white",
            "gridwidth": 2,
            "linecolor": "white",
            "showbackground": true,
            "ticks": "",
            "zerolinecolor": "white"
           },
           "zaxis": {
            "backgroundcolor": "#E5ECF6",
            "gridcolor": "white",
            "gridwidth": 2,
            "linecolor": "white",
            "showbackground": true,
            "ticks": "",
            "zerolinecolor": "white"
           }
          },
          "shapedefaults": {
           "line": {
            "color": "#2a3f5f"
           }
          },
          "ternary": {
           "aaxis": {
            "gridcolor": "white",
            "linecolor": "white",
            "ticks": ""
           },
           "baxis": {
            "gridcolor": "white",
            "linecolor": "white",
            "ticks": ""
           },
           "bgcolor": "#E5ECF6",
           "caxis": {
            "gridcolor": "white",
            "linecolor": "white",
            "ticks": ""
           }
          },
          "title": {
           "x": 0.05
          },
          "xaxis": {
           "automargin": true,
           "gridcolor": "white",
           "linecolor": "white",
           "ticks": "",
           "title": {
            "standoff": 15
           },
           "zerolinecolor": "white",
           "zerolinewidth": 2
          },
          "yaxis": {
           "automargin": true,
           "gridcolor": "white",
           "linecolor": "white",
           "ticks": "",
           "title": {
            "standoff": 15
           },
           "zerolinecolor": "white",
           "zerolinewidth": 2
          }
         }
        },
        "title": {
         "text": "Most Frequent Topic Per Author"
        },
        "xaxis": {
         "anchor": "y",
         "domain": [
          0,
          1
         ],
         "tickmode": "array",
         "ticktext": [
          "AaronPressman",
          "AlanCrosby",
          "AlexanderSmith",
          "BenjaminKangLim",
          "BernardHickey",
          "BradDorfman",
          "DarrenSchuettler",
          "DavidLawder",
          "EdnaFernandes",
          "EricAuchard",
          "FumikoFujisaki",
          "GrahamEarnshaw",
          "HeatherScoffield",
          "JanLopatka",
          "JaneMacartney",
          "JimGilchrist",
          "JoWinterbottom",
          "JoeOrtiz",
          "JohnMastrini",
          "JonathanBirt",
          "KarlPenhaul",
          "KeithWeir",
          "KevinDrawbaugh",
          "KevinMorrison",
          "KirstinRidley",
          "KouroshKarimkhany",
          "LydiaZajc",
          "LynneO'Donnell",
          "LynnleyBrowning",
          "MarcelMichelson",
          "MarkBendeich",
          "MartinWolk",
          "MatthewBunce",
          "MichaelConnor",
          "MureDickie",
          "NickLouth",
          "PatriciaCommins",
          "PeterHumphrey",
          "PierreTran",
          "RobinSidel",
          "RogerFillion",
          "SamuelPerry",
          "SarahDavison",
          "ScottHillis",
          "SimonCowell",
          "TanEeLyn",
          "TheresePoletti",
          "TimFarrand",
          "ToddNissen",
          "WilliamKazer"
         ],
         "tickvals": [
          "AaronPressman",
          "AlanCrosby",
          "AlexanderSmith",
          "BenjaminKangLim",
          "BernardHickey",
          "BradDorfman",
          "DarrenSchuettler",
          "DavidLawder",
          "EdnaFernandes",
          "EricAuchard",
          "FumikoFujisaki",
          "GrahamEarnshaw",
          "HeatherScoffield",
          "JanLopatka",
          "JaneMacartney",
          "JimGilchrist",
          "JoWinterbottom",
          "JoeOrtiz",
          "JohnMastrini",
          "JonathanBirt",
          "KarlPenhaul",
          "KeithWeir",
          "KevinDrawbaugh",
          "KevinMorrison",
          "KirstinRidley",
          "KouroshKarimkhany",
          "LydiaZajc",
          "LynneO'Donnell",
          "LynnleyBrowning",
          "MarcelMichelson",
          "MarkBendeich",
          "MartinWolk",
          "MatthewBunce",
          "MichaelConnor",
          "MureDickie",
          "NickLouth",
          "PatriciaCommins",
          "PeterHumphrey",
          "PierreTran",
          "RobinSidel",
          "RogerFillion",
          "SamuelPerry",
          "SarahDavison",
          "ScottHillis",
          "SimonCowell",
          "TanEeLyn",
          "TheresePoletti",
          "TimFarrand",
          "ToddNissen",
          "WilliamKazer"
         ],
         "title": {
          "text": "Authors"
         }
        },
        "yaxis": {
         "anchor": "x",
         "domain": [
          0,
          1
         ],
         "title": {
          "text": "Most Frequent Topic"
         }
        }
       }
      }
     },
     "metadata": {},
     "output_type": "display_data"
    }
   ],
   "source": [
    "# Group the test set by 'Author' and 'Predicted_Topic' and count the frequency of each topic per author\n",
    "author_topic_df = test_set_grouped.groupby(['author', 'Predicted_Topic']).agg(\n",
    "    topic_count=pd.NamedAgg(column='Predicted_Topic', aggfunc='count')\n",
    ")\n",
    "\n",
    "# Reset the index to make 'Author' and 'Predicted_Topic' regular columns\n",
    "author_topic_df = author_topic_df.reset_index(drop=False)\n",
    "\n",
    "# Sort by 'Author' and 'topic_count', then keep the most frequent topic for each author\n",
    "author_topic_df_sorted = author_topic_df.sort_values(['author', 'topic_count']).drop_duplicates('author', keep='last')\n",
    "\n",
    "# Reset the index again after sorting\n",
    "author_topic_df_sorted = author_topic_df_sorted.reset_index(drop=True)\n",
    "\n",
    "# Create a bar chart to show the most frequent topic per author\n",
    "bar_chart = px.bar(author_topic_df_sorted, x=\"author\", y=\"Predicted_Topic\", title='Most Frequent Topic Per Author')\n",
    "bar_chart.update_layout(\n",
    "    xaxis=dict(\n",
    "        tickmode='array',\n",
    "        tickvals=author_topic_df_sorted['author'],\n",
    "        ticktext=author_topic_df_sorted['author'],\n",
    "        title=\"Authors\"\n",
    "    ),\n",
    "    yaxis_title=\"Most Frequent Topic\",\n",
    "    title='Most Frequent Topic Per Author'\n",
    ")\n",
    "\n",
    "# Display the bar chart\n",
    "bar_chart.show()\n"
   ]
  },
  {
   "cell_type": "markdown",
   "metadata": {},
   "source": [
    "Convert DTM to DataFrame for easy manipulation"
   ]
  },
  {
   "cell_type": "code",
   "execution_count": 17,
   "metadata": {},
   "outputs": [
    {
     "name": "stdout",
     "output_type": "stream",
     "text": [
      "Train DTM shape after removing sparse terms: (2500, 10)\n",
      "Test DTM shape after removing sparse terms: (2500, 10)\n"
     ]
    }
   ],
   "source": [
    "# Convert DTM to DataFrame for easy manipulation\n",
    "train_dtm_df = pd.DataFrame(train_dtm.toarray(), columns=vectorizer.get_feature_names_out())\n",
    "test_dtm_df = pd.DataFrame(test_dtm.toarray(), columns=vectorizer.get_feature_names_out())\n",
    "\n",
    "# Removing sparse terms (example threshold: keep words present in at least 6% of documents)\n",
    "sparse_threshold = 0.80\n",
    "train_dtm_df = train_dtm_df.loc[:, (train_dtm_df.sum(axis=0) >= sparse_threshold * train_dtm_df.shape[0])]\n",
    "test_dtm_df = test_dtm_df.loc[:, train_dtm_df.columns]  # Align test DTM to train DTM\n",
    "\n",
    "print(f\"Train DTM shape after removing sparse terms: {train_dtm_df.shape}\")\n",
    "print(f\"Test DTM shape after removing sparse terms: {test_dtm_df.shape}\")"
   ]
  },
  {
   "cell_type": "code",
   "execution_count": 18,
   "metadata": {},
   "outputs": [
    {
     "name": "stdout",
     "output_type": "stream",
     "text": [
      "Top 5 words in the train dataset:\n",
      "said       19856\n",
      "year        5386\n",
      "percent     5296\n",
      "million     4877\n",
      "company     3778\n",
      "dtype: int64\n",
      "Top 5 words in the test dataset:\n",
      "said       20128\n",
      "percent     5619\n",
      "year        5167\n",
      "million     5018\n",
      "company     3745\n",
      "dtype: int64\n"
     ]
    }
   ],
   "source": [
    "# Generate word frequencies\n",
    "train_word_freq = train_dtm_df.sum(axis=0).sort_values(ascending=False)\n",
    "test_word_freq = test_dtm_df.sum(axis=0).sort_values(ascending=False)\n",
    "\n",
    "print(\"Top 5 words in the train dataset:\")\n",
    "print(train_word_freq.head())\n",
    "\n",
    "print(\"Top 5 words in the test dataset:\")\n",
    "print(test_word_freq.head())"
   ]
  },
  {
   "cell_type": "code",
   "execution_count": 19,
   "metadata": {},
   "outputs": [
    {
     "data": {
      "application/vnd.plotly.v1+json": {
       "config": {
        "plotlyServerURL": "https://plot.ly"
       },
       "data": [
        {
         "alignmentgroup": "True",
         "hovertemplate": "Word=%{x}<br>Frequency=%{y}<extra></extra>",
         "legendgroup": "",
         "marker": {
          "color": "#636efa",
          "pattern": {
           "shape": ""
          }
         },
         "name": "",
         "offsetgroup": "",
         "orientation": "v",
         "showlegend": false,
         "textposition": "auto",
         "type": "bar",
         "x": [
          "said",
          "year",
          "percent",
          "million",
          "company",
          "new",
          "market",
          "china",
          "billion",
          "analysts"
         ],
         "xaxis": "x",
         "y": [
          19856,
          5386,
          5296,
          4877,
          3778,
          3547,
          3336,
          3154,
          3058,
          2482
         ],
         "yaxis": "y"
        }
       ],
       "layout": {
        "barmode": "relative",
        "legend": {
         "tracegroupgap": 0
        },
        "template": {
         "data": {
          "bar": [
           {
            "error_x": {
             "color": "#2a3f5f"
            },
            "error_y": {
             "color": "#2a3f5f"
            },
            "marker": {
             "line": {
              "color": "#E5ECF6",
              "width": 0.5
             },
             "pattern": {
              "fillmode": "overlay",
              "size": 10,
              "solidity": 0.2
             }
            },
            "type": "bar"
           }
          ],
          "barpolar": [
           {
            "marker": {
             "line": {
              "color": "#E5ECF6",
              "width": 0.5
             },
             "pattern": {
              "fillmode": "overlay",
              "size": 10,
              "solidity": 0.2
             }
            },
            "type": "barpolar"
           }
          ],
          "carpet": [
           {
            "aaxis": {
             "endlinecolor": "#2a3f5f",
             "gridcolor": "white",
             "linecolor": "white",
             "minorgridcolor": "white",
             "startlinecolor": "#2a3f5f"
            },
            "baxis": {
             "endlinecolor": "#2a3f5f",
             "gridcolor": "white",
             "linecolor": "white",
             "minorgridcolor": "white",
             "startlinecolor": "#2a3f5f"
            },
            "type": "carpet"
           }
          ],
          "choropleth": [
           {
            "colorbar": {
             "outlinewidth": 0,
             "ticks": ""
            },
            "type": "choropleth"
           }
          ],
          "contour": [
           {
            "colorbar": {
             "outlinewidth": 0,
             "ticks": ""
            },
            "colorscale": [
             [
              0,
              "#0d0887"
             ],
             [
              0.1111111111111111,
              "#46039f"
             ],
             [
              0.2222222222222222,
              "#7201a8"
             ],
             [
              0.3333333333333333,
              "#9c179e"
             ],
             [
              0.4444444444444444,
              "#bd3786"
             ],
             [
              0.5555555555555556,
              "#d8576b"
             ],
             [
              0.6666666666666666,
              "#ed7953"
             ],
             [
              0.7777777777777778,
              "#fb9f3a"
             ],
             [
              0.8888888888888888,
              "#fdca26"
             ],
             [
              1,
              "#f0f921"
             ]
            ],
            "type": "contour"
           }
          ],
          "contourcarpet": [
           {
            "colorbar": {
             "outlinewidth": 0,
             "ticks": ""
            },
            "type": "contourcarpet"
           }
          ],
          "heatmap": [
           {
            "colorbar": {
             "outlinewidth": 0,
             "ticks": ""
            },
            "colorscale": [
             [
              0,
              "#0d0887"
             ],
             [
              0.1111111111111111,
              "#46039f"
             ],
             [
              0.2222222222222222,
              "#7201a8"
             ],
             [
              0.3333333333333333,
              "#9c179e"
             ],
             [
              0.4444444444444444,
              "#bd3786"
             ],
             [
              0.5555555555555556,
              "#d8576b"
             ],
             [
              0.6666666666666666,
              "#ed7953"
             ],
             [
              0.7777777777777778,
              "#fb9f3a"
             ],
             [
              0.8888888888888888,
              "#fdca26"
             ],
             [
              1,
              "#f0f921"
             ]
            ],
            "type": "heatmap"
           }
          ],
          "heatmapgl": [
           {
            "colorbar": {
             "outlinewidth": 0,
             "ticks": ""
            },
            "colorscale": [
             [
              0,
              "#0d0887"
             ],
             [
              0.1111111111111111,
              "#46039f"
             ],
             [
              0.2222222222222222,
              "#7201a8"
             ],
             [
              0.3333333333333333,
              "#9c179e"
             ],
             [
              0.4444444444444444,
              "#bd3786"
             ],
             [
              0.5555555555555556,
              "#d8576b"
             ],
             [
              0.6666666666666666,
              "#ed7953"
             ],
             [
              0.7777777777777778,
              "#fb9f3a"
             ],
             [
              0.8888888888888888,
              "#fdca26"
             ],
             [
              1,
              "#f0f921"
             ]
            ],
            "type": "heatmapgl"
           }
          ],
          "histogram": [
           {
            "marker": {
             "pattern": {
              "fillmode": "overlay",
              "size": 10,
              "solidity": 0.2
             }
            },
            "type": "histogram"
           }
          ],
          "histogram2d": [
           {
            "colorbar": {
             "outlinewidth": 0,
             "ticks": ""
            },
            "colorscale": [
             [
              0,
              "#0d0887"
             ],
             [
              0.1111111111111111,
              "#46039f"
             ],
             [
              0.2222222222222222,
              "#7201a8"
             ],
             [
              0.3333333333333333,
              "#9c179e"
             ],
             [
              0.4444444444444444,
              "#bd3786"
             ],
             [
              0.5555555555555556,
              "#d8576b"
             ],
             [
              0.6666666666666666,
              "#ed7953"
             ],
             [
              0.7777777777777778,
              "#fb9f3a"
             ],
             [
              0.8888888888888888,
              "#fdca26"
             ],
             [
              1,
              "#f0f921"
             ]
            ],
            "type": "histogram2d"
           }
          ],
          "histogram2dcontour": [
           {
            "colorbar": {
             "outlinewidth": 0,
             "ticks": ""
            },
            "colorscale": [
             [
              0,
              "#0d0887"
             ],
             [
              0.1111111111111111,
              "#46039f"
             ],
             [
              0.2222222222222222,
              "#7201a8"
             ],
             [
              0.3333333333333333,
              "#9c179e"
             ],
             [
              0.4444444444444444,
              "#bd3786"
             ],
             [
              0.5555555555555556,
              "#d8576b"
             ],
             [
              0.6666666666666666,
              "#ed7953"
             ],
             [
              0.7777777777777778,
              "#fb9f3a"
             ],
             [
              0.8888888888888888,
              "#fdca26"
             ],
             [
              1,
              "#f0f921"
             ]
            ],
            "type": "histogram2dcontour"
           }
          ],
          "mesh3d": [
           {
            "colorbar": {
             "outlinewidth": 0,
             "ticks": ""
            },
            "type": "mesh3d"
           }
          ],
          "parcoords": [
           {
            "line": {
             "colorbar": {
              "outlinewidth": 0,
              "ticks": ""
             }
            },
            "type": "parcoords"
           }
          ],
          "pie": [
           {
            "automargin": true,
            "type": "pie"
           }
          ],
          "scatter": [
           {
            "fillpattern": {
             "fillmode": "overlay",
             "size": 10,
             "solidity": 0.2
            },
            "type": "scatter"
           }
          ],
          "scatter3d": [
           {
            "line": {
             "colorbar": {
              "outlinewidth": 0,
              "ticks": ""
             }
            },
            "marker": {
             "colorbar": {
              "outlinewidth": 0,
              "ticks": ""
             }
            },
            "type": "scatter3d"
           }
          ],
          "scattercarpet": [
           {
            "marker": {
             "colorbar": {
              "outlinewidth": 0,
              "ticks": ""
             }
            },
            "type": "scattercarpet"
           }
          ],
          "scattergeo": [
           {
            "marker": {
             "colorbar": {
              "outlinewidth": 0,
              "ticks": ""
             }
            },
            "type": "scattergeo"
           }
          ],
          "scattergl": [
           {
            "marker": {
             "colorbar": {
              "outlinewidth": 0,
              "ticks": ""
             }
            },
            "type": "scattergl"
           }
          ],
          "scattermapbox": [
           {
            "marker": {
             "colorbar": {
              "outlinewidth": 0,
              "ticks": ""
             }
            },
            "type": "scattermapbox"
           }
          ],
          "scatterpolar": [
           {
            "marker": {
             "colorbar": {
              "outlinewidth": 0,
              "ticks": ""
             }
            },
            "type": "scatterpolar"
           }
          ],
          "scatterpolargl": [
           {
            "marker": {
             "colorbar": {
              "outlinewidth": 0,
              "ticks": ""
             }
            },
            "type": "scatterpolargl"
           }
          ],
          "scatterternary": [
           {
            "marker": {
             "colorbar": {
              "outlinewidth": 0,
              "ticks": ""
             }
            },
            "type": "scatterternary"
           }
          ],
          "surface": [
           {
            "colorbar": {
             "outlinewidth": 0,
             "ticks": ""
            },
            "colorscale": [
             [
              0,
              "#0d0887"
             ],
             [
              0.1111111111111111,
              "#46039f"
             ],
             [
              0.2222222222222222,
              "#7201a8"
             ],
             [
              0.3333333333333333,
              "#9c179e"
             ],
             [
              0.4444444444444444,
              "#bd3786"
             ],
             [
              0.5555555555555556,
              "#d8576b"
             ],
             [
              0.6666666666666666,
              "#ed7953"
             ],
             [
              0.7777777777777778,
              "#fb9f3a"
             ],
             [
              0.8888888888888888,
              "#fdca26"
             ],
             [
              1,
              "#f0f921"
             ]
            ],
            "type": "surface"
           }
          ],
          "table": [
           {
            "cells": {
             "fill": {
              "color": "#EBF0F8"
             },
             "line": {
              "color": "white"
             }
            },
            "header": {
             "fill": {
              "color": "#C8D4E3"
             },
             "line": {
              "color": "white"
             }
            },
            "type": "table"
           }
          ]
         },
         "layout": {
          "annotationdefaults": {
           "arrowcolor": "#2a3f5f",
           "arrowhead": 0,
           "arrowwidth": 1
          },
          "autotypenumbers": "strict",
          "coloraxis": {
           "colorbar": {
            "outlinewidth": 0,
            "ticks": ""
           }
          },
          "colorscale": {
           "diverging": [
            [
             0,
             "#8e0152"
            ],
            [
             0.1,
             "#c51b7d"
            ],
            [
             0.2,
             "#de77ae"
            ],
            [
             0.3,
             "#f1b6da"
            ],
            [
             0.4,
             "#fde0ef"
            ],
            [
             0.5,
             "#f7f7f7"
            ],
            [
             0.6,
             "#e6f5d0"
            ],
            [
             0.7,
             "#b8e186"
            ],
            [
             0.8,
             "#7fbc41"
            ],
            [
             0.9,
             "#4d9221"
            ],
            [
             1,
             "#276419"
            ]
           ],
           "sequential": [
            [
             0,
             "#0d0887"
            ],
            [
             0.1111111111111111,
             "#46039f"
            ],
            [
             0.2222222222222222,
             "#7201a8"
            ],
            [
             0.3333333333333333,
             "#9c179e"
            ],
            [
             0.4444444444444444,
             "#bd3786"
            ],
            [
             0.5555555555555556,
             "#d8576b"
            ],
            [
             0.6666666666666666,
             "#ed7953"
            ],
            [
             0.7777777777777778,
             "#fb9f3a"
            ],
            [
             0.8888888888888888,
             "#fdca26"
            ],
            [
             1,
             "#f0f921"
            ]
           ],
           "sequentialminus": [
            [
             0,
             "#0d0887"
            ],
            [
             0.1111111111111111,
             "#46039f"
            ],
            [
             0.2222222222222222,
             "#7201a8"
            ],
            [
             0.3333333333333333,
             "#9c179e"
            ],
            [
             0.4444444444444444,
             "#bd3786"
            ],
            [
             0.5555555555555556,
             "#d8576b"
            ],
            [
             0.6666666666666666,
             "#ed7953"
            ],
            [
             0.7777777777777778,
             "#fb9f3a"
            ],
            [
             0.8888888888888888,
             "#fdca26"
            ],
            [
             1,
             "#f0f921"
            ]
           ]
          },
          "colorway": [
           "#636efa",
           "#EF553B",
           "#00cc96",
           "#ab63fa",
           "#FFA15A",
           "#19d3f3",
           "#FF6692",
           "#B6E880",
           "#FF97FF",
           "#FECB52"
          ],
          "font": {
           "color": "#2a3f5f"
          },
          "geo": {
           "bgcolor": "white",
           "lakecolor": "white",
           "landcolor": "#E5ECF6",
           "showlakes": true,
           "showland": true,
           "subunitcolor": "white"
          },
          "hoverlabel": {
           "align": "left"
          },
          "hovermode": "closest",
          "mapbox": {
           "style": "light"
          },
          "paper_bgcolor": "white",
          "plot_bgcolor": "#E5ECF6",
          "polar": {
           "angularaxis": {
            "gridcolor": "white",
            "linecolor": "white",
            "ticks": ""
           },
           "bgcolor": "#E5ECF6",
           "radialaxis": {
            "gridcolor": "white",
            "linecolor": "white",
            "ticks": ""
           }
          },
          "scene": {
           "xaxis": {
            "backgroundcolor": "#E5ECF6",
            "gridcolor": "white",
            "gridwidth": 2,
            "linecolor": "white",
            "showbackground": true,
            "ticks": "",
            "zerolinecolor": "white"
           },
           "yaxis": {
            "backgroundcolor": "#E5ECF6",
            "gridcolor": "white",
            "gridwidth": 2,
            "linecolor": "white",
            "showbackground": true,
            "ticks": "",
            "zerolinecolor": "white"
           },
           "zaxis": {
            "backgroundcolor": "#E5ECF6",
            "gridcolor": "white",
            "gridwidth": 2,
            "linecolor": "white",
            "showbackground": true,
            "ticks": "",
            "zerolinecolor": "white"
           }
          },
          "shapedefaults": {
           "line": {
            "color": "#2a3f5f"
           }
          },
          "ternary": {
           "aaxis": {
            "gridcolor": "white",
            "linecolor": "white",
            "ticks": ""
           },
           "baxis": {
            "gridcolor": "white",
            "linecolor": "white",
            "ticks": ""
           },
           "bgcolor": "#E5ECF6",
           "caxis": {
            "gridcolor": "white",
            "linecolor": "white",
            "ticks": ""
           }
          },
          "title": {
           "x": 0.05
          },
          "xaxis": {
           "automargin": true,
           "gridcolor": "white",
           "linecolor": "white",
           "ticks": "",
           "title": {
            "standoff": 15
           },
           "zerolinecolor": "white",
           "zerolinewidth": 2
          },
          "yaxis": {
           "automargin": true,
           "gridcolor": "white",
           "linecolor": "white",
           "ticks": "",
           "title": {
            "standoff": 15
           },
           "zerolinecolor": "white",
           "zerolinewidth": 2
          }
         }
        },
        "title": {
         "text": "Words with Frequency > 1500 in Train Dataset"
        },
        "xaxis": {
         "anchor": "y",
         "domain": [
          0,
          1
         ],
         "tickangle": -45,
         "title": {
          "text": "Word"
         }
        },
        "yaxis": {
         "anchor": "x",
         "domain": [
          0,
          1
         ],
         "title": {
          "text": "Frequency"
         }
        }
       }
      }
     },
     "metadata": {},
     "output_type": "display_data"
    }
   ],
   "source": [
    "import plotly.express as px\n",
    "\n",
    "# Filter words with frequency greater than 1500\n",
    "filtered_word_freq = train_word_freq[train_word_freq > 1500]\n",
    "\n",
    "# Create a DataFrame from the filtered word frequencies for plotting\n",
    "df_word_freq = pd.DataFrame({\n",
    "    'Word': filtered_word_freq.index,\n",
    "    'Frequency': filtered_word_freq.values\n",
    "})\n",
    "\n",
    "# Plot the word frequencies using Plotly Express\n",
    "fig = px.bar(df_word_freq, x='Word', y='Frequency', title=\"Words with Frequency > 1500 in Train Dataset\")\n",
    "fig.update_layout(xaxis_tickangle=-45)  # Rotate x-axis labels for better readability\n",
    "fig.show()"
   ]
  },
  {
   "cell_type": "code",
   "execution_count": 20,
   "metadata": {},
   "outputs": [
    {
     "data": {
      "application/vnd.plotly.v1+json": {
       "config": {
        "plotlyServerURL": "https://plot.ly"
       },
       "data": [
        {
         "hovertemplate": "<b>%{hovertext}</b><br><br>Word=%{x}<br>Frequency=%{marker.size}<extra></extra>",
         "hovertext": [
          "said",
          "year",
          "percent",
          "million",
          "company",
          "new",
          "market",
          "china",
          "billion",
          "analysts"
         ],
         "legendgroup": "",
         "marker": {
          "color": "#636efa",
          "size": [
           19856,
           5386,
           5296,
           4877,
           3778,
           3547,
           3336,
           3154,
           3058,
           2482
          ],
          "sizemode": "area",
          "sizeref": 5.515555555555555,
          "symbol": "circle"
         },
         "mode": "markers",
         "name": "",
         "orientation": "v",
         "showlegend": false,
         "type": "scatter",
         "x": [
          "said",
          "year",
          "percent",
          "million",
          "company",
          "new",
          "market",
          "china",
          "billion",
          "analysts"
         ],
         "xaxis": "x",
         "y": [
          19856,
          5386,
          5296,
          4877,
          3778,
          3547,
          3336,
          3154,
          3058,
          2482
         ],
         "yaxis": "y"
        }
       ],
       "layout": {
        "legend": {
         "itemsizing": "constant",
         "tracegroupgap": 0
        },
        "template": {
         "data": {
          "bar": [
           {
            "error_x": {
             "color": "#2a3f5f"
            },
            "error_y": {
             "color": "#2a3f5f"
            },
            "marker": {
             "line": {
              "color": "#E5ECF6",
              "width": 0.5
             },
             "pattern": {
              "fillmode": "overlay",
              "size": 10,
              "solidity": 0.2
             }
            },
            "type": "bar"
           }
          ],
          "barpolar": [
           {
            "marker": {
             "line": {
              "color": "#E5ECF6",
              "width": 0.5
             },
             "pattern": {
              "fillmode": "overlay",
              "size": 10,
              "solidity": 0.2
             }
            },
            "type": "barpolar"
           }
          ],
          "carpet": [
           {
            "aaxis": {
             "endlinecolor": "#2a3f5f",
             "gridcolor": "white",
             "linecolor": "white",
             "minorgridcolor": "white",
             "startlinecolor": "#2a3f5f"
            },
            "baxis": {
             "endlinecolor": "#2a3f5f",
             "gridcolor": "white",
             "linecolor": "white",
             "minorgridcolor": "white",
             "startlinecolor": "#2a3f5f"
            },
            "type": "carpet"
           }
          ],
          "choropleth": [
           {
            "colorbar": {
             "outlinewidth": 0,
             "ticks": ""
            },
            "type": "choropleth"
           }
          ],
          "contour": [
           {
            "colorbar": {
             "outlinewidth": 0,
             "ticks": ""
            },
            "colorscale": [
             [
              0,
              "#0d0887"
             ],
             [
              0.1111111111111111,
              "#46039f"
             ],
             [
              0.2222222222222222,
              "#7201a8"
             ],
             [
              0.3333333333333333,
              "#9c179e"
             ],
             [
              0.4444444444444444,
              "#bd3786"
             ],
             [
              0.5555555555555556,
              "#d8576b"
             ],
             [
              0.6666666666666666,
              "#ed7953"
             ],
             [
              0.7777777777777778,
              "#fb9f3a"
             ],
             [
              0.8888888888888888,
              "#fdca26"
             ],
             [
              1,
              "#f0f921"
             ]
            ],
            "type": "contour"
           }
          ],
          "contourcarpet": [
           {
            "colorbar": {
             "outlinewidth": 0,
             "ticks": ""
            },
            "type": "contourcarpet"
           }
          ],
          "heatmap": [
           {
            "colorbar": {
             "outlinewidth": 0,
             "ticks": ""
            },
            "colorscale": [
             [
              0,
              "#0d0887"
             ],
             [
              0.1111111111111111,
              "#46039f"
             ],
             [
              0.2222222222222222,
              "#7201a8"
             ],
             [
              0.3333333333333333,
              "#9c179e"
             ],
             [
              0.4444444444444444,
              "#bd3786"
             ],
             [
              0.5555555555555556,
              "#d8576b"
             ],
             [
              0.6666666666666666,
              "#ed7953"
             ],
             [
              0.7777777777777778,
              "#fb9f3a"
             ],
             [
              0.8888888888888888,
              "#fdca26"
             ],
             [
              1,
              "#f0f921"
             ]
            ],
            "type": "heatmap"
           }
          ],
          "heatmapgl": [
           {
            "colorbar": {
             "outlinewidth": 0,
             "ticks": ""
            },
            "colorscale": [
             [
              0,
              "#0d0887"
             ],
             [
              0.1111111111111111,
              "#46039f"
             ],
             [
              0.2222222222222222,
              "#7201a8"
             ],
             [
              0.3333333333333333,
              "#9c179e"
             ],
             [
              0.4444444444444444,
              "#bd3786"
             ],
             [
              0.5555555555555556,
              "#d8576b"
             ],
             [
              0.6666666666666666,
              "#ed7953"
             ],
             [
              0.7777777777777778,
              "#fb9f3a"
             ],
             [
              0.8888888888888888,
              "#fdca26"
             ],
             [
              1,
              "#f0f921"
             ]
            ],
            "type": "heatmapgl"
           }
          ],
          "histogram": [
           {
            "marker": {
             "pattern": {
              "fillmode": "overlay",
              "size": 10,
              "solidity": 0.2
             }
            },
            "type": "histogram"
           }
          ],
          "histogram2d": [
           {
            "colorbar": {
             "outlinewidth": 0,
             "ticks": ""
            },
            "colorscale": [
             [
              0,
              "#0d0887"
             ],
             [
              0.1111111111111111,
              "#46039f"
             ],
             [
              0.2222222222222222,
              "#7201a8"
             ],
             [
              0.3333333333333333,
              "#9c179e"
             ],
             [
              0.4444444444444444,
              "#bd3786"
             ],
             [
              0.5555555555555556,
              "#d8576b"
             ],
             [
              0.6666666666666666,
              "#ed7953"
             ],
             [
              0.7777777777777778,
              "#fb9f3a"
             ],
             [
              0.8888888888888888,
              "#fdca26"
             ],
             [
              1,
              "#f0f921"
             ]
            ],
            "type": "histogram2d"
           }
          ],
          "histogram2dcontour": [
           {
            "colorbar": {
             "outlinewidth": 0,
             "ticks": ""
            },
            "colorscale": [
             [
              0,
              "#0d0887"
             ],
             [
              0.1111111111111111,
              "#46039f"
             ],
             [
              0.2222222222222222,
              "#7201a8"
             ],
             [
              0.3333333333333333,
              "#9c179e"
             ],
             [
              0.4444444444444444,
              "#bd3786"
             ],
             [
              0.5555555555555556,
              "#d8576b"
             ],
             [
              0.6666666666666666,
              "#ed7953"
             ],
             [
              0.7777777777777778,
              "#fb9f3a"
             ],
             [
              0.8888888888888888,
              "#fdca26"
             ],
             [
              1,
              "#f0f921"
             ]
            ],
            "type": "histogram2dcontour"
           }
          ],
          "mesh3d": [
           {
            "colorbar": {
             "outlinewidth": 0,
             "ticks": ""
            },
            "type": "mesh3d"
           }
          ],
          "parcoords": [
           {
            "line": {
             "colorbar": {
              "outlinewidth": 0,
              "ticks": ""
             }
            },
            "type": "parcoords"
           }
          ],
          "pie": [
           {
            "automargin": true,
            "type": "pie"
           }
          ],
          "scatter": [
           {
            "fillpattern": {
             "fillmode": "overlay",
             "size": 10,
             "solidity": 0.2
            },
            "type": "scatter"
           }
          ],
          "scatter3d": [
           {
            "line": {
             "colorbar": {
              "outlinewidth": 0,
              "ticks": ""
             }
            },
            "marker": {
             "colorbar": {
              "outlinewidth": 0,
              "ticks": ""
             }
            },
            "type": "scatter3d"
           }
          ],
          "scattercarpet": [
           {
            "marker": {
             "colorbar": {
              "outlinewidth": 0,
              "ticks": ""
             }
            },
            "type": "scattercarpet"
           }
          ],
          "scattergeo": [
           {
            "marker": {
             "colorbar": {
              "outlinewidth": 0,
              "ticks": ""
             }
            },
            "type": "scattergeo"
           }
          ],
          "scattergl": [
           {
            "marker": {
             "colorbar": {
              "outlinewidth": 0,
              "ticks": ""
             }
            },
            "type": "scattergl"
           }
          ],
          "scattermapbox": [
           {
            "marker": {
             "colorbar": {
              "outlinewidth": 0,
              "ticks": ""
             }
            },
            "type": "scattermapbox"
           }
          ],
          "scatterpolar": [
           {
            "marker": {
             "colorbar": {
              "outlinewidth": 0,
              "ticks": ""
             }
            },
            "type": "scatterpolar"
           }
          ],
          "scatterpolargl": [
           {
            "marker": {
             "colorbar": {
              "outlinewidth": 0,
              "ticks": ""
             }
            },
            "type": "scatterpolargl"
           }
          ],
          "scatterternary": [
           {
            "marker": {
             "colorbar": {
              "outlinewidth": 0,
              "ticks": ""
             }
            },
            "type": "scatterternary"
           }
          ],
          "surface": [
           {
            "colorbar": {
             "outlinewidth": 0,
             "ticks": ""
            },
            "colorscale": [
             [
              0,
              "#0d0887"
             ],
             [
              0.1111111111111111,
              "#46039f"
             ],
             [
              0.2222222222222222,
              "#7201a8"
             ],
             [
              0.3333333333333333,
              "#9c179e"
             ],
             [
              0.4444444444444444,
              "#bd3786"
             ],
             [
              0.5555555555555556,
              "#d8576b"
             ],
             [
              0.6666666666666666,
              "#ed7953"
             ],
             [
              0.7777777777777778,
              "#fb9f3a"
             ],
             [
              0.8888888888888888,
              "#fdca26"
             ],
             [
              1,
              "#f0f921"
             ]
            ],
            "type": "surface"
           }
          ],
          "table": [
           {
            "cells": {
             "fill": {
              "color": "#EBF0F8"
             },
             "line": {
              "color": "white"
             }
            },
            "header": {
             "fill": {
              "color": "#C8D4E3"
             },
             "line": {
              "color": "white"
             }
            },
            "type": "table"
           }
          ]
         },
         "layout": {
          "annotationdefaults": {
           "arrowcolor": "#2a3f5f",
           "arrowhead": 0,
           "arrowwidth": 1
          },
          "autotypenumbers": "strict",
          "coloraxis": {
           "colorbar": {
            "outlinewidth": 0,
            "ticks": ""
           }
          },
          "colorscale": {
           "diverging": [
            [
             0,
             "#8e0152"
            ],
            [
             0.1,
             "#c51b7d"
            ],
            [
             0.2,
             "#de77ae"
            ],
            [
             0.3,
             "#f1b6da"
            ],
            [
             0.4,
             "#fde0ef"
            ],
            [
             0.5,
             "#f7f7f7"
            ],
            [
             0.6,
             "#e6f5d0"
            ],
            [
             0.7,
             "#b8e186"
            ],
            [
             0.8,
             "#7fbc41"
            ],
            [
             0.9,
             "#4d9221"
            ],
            [
             1,
             "#276419"
            ]
           ],
           "sequential": [
            [
             0,
             "#0d0887"
            ],
            [
             0.1111111111111111,
             "#46039f"
            ],
            [
             0.2222222222222222,
             "#7201a8"
            ],
            [
             0.3333333333333333,
             "#9c179e"
            ],
            [
             0.4444444444444444,
             "#bd3786"
            ],
            [
             0.5555555555555556,
             "#d8576b"
            ],
            [
             0.6666666666666666,
             "#ed7953"
            ],
            [
             0.7777777777777778,
             "#fb9f3a"
            ],
            [
             0.8888888888888888,
             "#fdca26"
            ],
            [
             1,
             "#f0f921"
            ]
           ],
           "sequentialminus": [
            [
             0,
             "#0d0887"
            ],
            [
             0.1111111111111111,
             "#46039f"
            ],
            [
             0.2222222222222222,
             "#7201a8"
            ],
            [
             0.3333333333333333,
             "#9c179e"
            ],
            [
             0.4444444444444444,
             "#bd3786"
            ],
            [
             0.5555555555555556,
             "#d8576b"
            ],
            [
             0.6666666666666666,
             "#ed7953"
            ],
            [
             0.7777777777777778,
             "#fb9f3a"
            ],
            [
             0.8888888888888888,
             "#fdca26"
            ],
            [
             1,
             "#f0f921"
            ]
           ]
          },
          "colorway": [
           "#636efa",
           "#EF553B",
           "#00cc96",
           "#ab63fa",
           "#FFA15A",
           "#19d3f3",
           "#FF6692",
           "#B6E880",
           "#FF97FF",
           "#FECB52"
          ],
          "font": {
           "color": "#2a3f5f"
          },
          "geo": {
           "bgcolor": "white",
           "lakecolor": "white",
           "landcolor": "#E5ECF6",
           "showlakes": true,
           "showland": true,
           "subunitcolor": "white"
          },
          "hoverlabel": {
           "align": "left"
          },
          "hovermode": "closest",
          "mapbox": {
           "style": "light"
          },
          "paper_bgcolor": "white",
          "plot_bgcolor": "#E5ECF6",
          "polar": {
           "angularaxis": {
            "gridcolor": "white",
            "linecolor": "white",
            "ticks": ""
           },
           "bgcolor": "#E5ECF6",
           "radialaxis": {
            "gridcolor": "white",
            "linecolor": "white",
            "ticks": ""
           }
          },
          "scene": {
           "xaxis": {
            "backgroundcolor": "#E5ECF6",
            "gridcolor": "white",
            "gridwidth": 2,
            "linecolor": "white",
            "showbackground": true,
            "ticks": "",
            "zerolinecolor": "white"
           },
           "yaxis": {
            "backgroundcolor": "#E5ECF6",
            "gridcolor": "white",
            "gridwidth": 2,
            "linecolor": "white",
            "showbackground": true,
            "ticks": "",
            "zerolinecolor": "white"
           },
           "zaxis": {
            "backgroundcolor": "#E5ECF6",
            "gridcolor": "white",
            "gridwidth": 2,
            "linecolor": "white",
            "showbackground": true,
            "ticks": "",
            "zerolinecolor": "white"
           }
          },
          "shapedefaults": {
           "line": {
            "color": "#2a3f5f"
           }
          },
          "ternary": {
           "aaxis": {
            "gridcolor": "white",
            "linecolor": "white",
            "ticks": ""
           },
           "baxis": {
            "gridcolor": "white",
            "linecolor": "white",
            "ticks": ""
           },
           "bgcolor": "#E5ECF6",
           "caxis": {
            "gridcolor": "white",
            "linecolor": "white",
            "ticks": ""
           }
          },
          "title": {
           "x": 0.05
          },
          "xaxis": {
           "automargin": true,
           "gridcolor": "white",
           "linecolor": "white",
           "ticks": "",
           "title": {
            "standoff": 15
           },
           "zerolinecolor": "white",
           "zerolinewidth": 2
          },
          "yaxis": {
           "automargin": true,
           "gridcolor": "white",
           "linecolor": "white",
           "ticks": "",
           "title": {
            "standoff": 15
           },
           "zerolinecolor": "white",
           "zerolinewidth": 2
          }
         }
        },
        "title": {
         "text": "Word Cloud Representation (Scatter Plot)"
        },
        "xaxis": {
         "anchor": "y",
         "domain": [
          0,
          1
         ],
         "tickangle": -45,
         "title": {
          "text": "Word"
         }
        },
        "yaxis": {
         "anchor": "x",
         "domain": [
          0,
          1
         ],
         "title": {
          "text": "Frequency"
         }
        }
       }
      }
     },
     "metadata": {},
     "output_type": "display_data"
    }
   ],
   "source": [
    "# Create a DataFrame from the word frequencies for plotting\n",
    "df_word_freq = pd.DataFrame({\n",
    "    'Word': train_word_freq.index,\n",
    "    'Frequency': train_word_freq.values\n",
    "})\n",
    "\n",
    "# Plot the word frequencies using Plotly Express\n",
    "fig = px.scatter(df_word_freq, x='Word', y='Frequency', size='Frequency', hover_name='Word', \n",
    "                 title=\"Word Cloud Representation (Scatter Plot)\",\n",
    "                 size_max=60)\n",
    "\n",
    "fig.update_layout(xaxis_tickangle=-45)  # Rotate x-axis labels for better readability\n",
    "fig.show()"
   ]
  },
  {
   "cell_type": "markdown",
   "metadata": {},
   "source": [
    "## T-SNE and PCA\n",
    "\n",
    "using the t-sne and PCA i am identifiting the culsters of teh authors"
   ]
  },
  {
   "cell_type": "code",
   "execution_count": 21,
   "metadata": {},
   "outputs": [],
   "source": [
    "# 1. Choose a subset of 10 authors\n",
    "unique_authors = list(set(train_df['author']))\n",
    "selected_authors = random.sample(unique_authors, 10)\n"
   ]
  },
  {
   "cell_type": "code",
   "execution_count": 22,
   "metadata": {},
   "outputs": [
    {
     "name": "stdout",
     "output_type": "stream",
     "text": [
      "2500\n",
      "2500\n"
     ]
    }
   ],
   "source": [
    "print(len(train_df['document']))\n",
    "print(len(train_df['author']))"
   ]
  },
  {
   "cell_type": "code",
   "execution_count": 23,
   "metadata": {},
   "outputs": [],
   "source": [
    "# 2. Filter the training data\n",
    "test_filtered_indices = [i for i, label in enumerate(train_df['author']) if label in selected_authors]\n",
    "# for i in filtered_indices:\n",
    "#     if i >= len(train_df['document']):\n",
    "#         print(f\"Index {i} is out of range for train_text with length {len(train_df['document'])}.\")\n",
    "#     else:\n",
    "#         print(f\"Index {i} is valid.\")\n",
    "train_filtered_texts = [train_df['document'].iloc[i] for i in test_filtered_indices]\n",
    "train_filtered_labels = [train_df['author'].iloc[i] for i in test_filtered_indices]\n",
    "train_filtered_dtm = train_dtm[test_filtered_indices]"
   ]
  },
  {
   "cell_type": "code",
   "execution_count": 24,
   "metadata": {},
   "outputs": [],
   "source": [
    "test_filtered_indices = [i for i, label in enumerate(test_df['author']) if label in selected_authors]\n",
    "test_filtered_texts = [test_df['document'].iloc[i] for i in test_filtered_indices]\n",
    "test_filtered_labels = [test_df['author'].iloc[i] for i in test_filtered_indices]\n",
    "test_filtered_dtm = test_dtm[test_filtered_indices]"
   ]
  },
  {
   "cell_type": "code",
   "execution_count": 25,
   "metadata": {},
   "outputs": [],
   "source": [
    "# Perform PCA on filtered training data\n",
    "pca = PCA(n_components=100)\n",
    "reduced_train_pca = pca.fit_transform(train_filtered_dtm.toarray())  # Convert sparse matrix to dense matrix\n",
    "\n",
    "# Apply t-SNE on the PCA-reduced training data\n",
    "tsne = TSNE(n_components=2, perplexity=20, random_state=42)\n",
    "tsne_train_results = tsne.fit_transform(reduced_train_pca)\n",
    "\n",
    "# Prepare a DataFrame for plotting\n",
    "train_tsne_df = pd.DataFrame({\n",
    "    't-SNE 1': tsne_train_results[:, 0],\n",
    "    't-SNE 2': tsne_train_results[:, 1],\n",
    "    'Author': train_filtered_labels\n",
    "})"
   ]
  },
  {
   "cell_type": "code",
   "execution_count": 26,
   "metadata": {},
   "outputs": [],
   "source": [
    "# Assuming you have a test_filtered_dtm for test data\n",
    "# Perform PCA on filtered test data\n",
    "reduced_test_pca = pca.transform(test_filtered_dtm.toarray())  # Use the same PCA model trained on the training data\n",
    "\n",
    "# Apply t-SNE on the PCA-reduced test data\n",
    "tsne_test_results = tsne.fit_transform(reduced_test_pca)\n",
    "\n",
    "# Prepare a DataFrame for plotting\n",
    "test_tsne_df = pd.DataFrame({\n",
    "    't-SNE 1': tsne_test_results[:, 0],\n",
    "    't-SNE 2': tsne_test_results[:, 1],\n",
    "    'Author': test_filtered_labels\n",
    "})"
   ]
  },
  {
   "cell_type": "code",
   "execution_count": 27,
   "metadata": {},
   "outputs": [
    {
     "data": {
      "image/png": "[encoded data removed]",
      "text/plain": [
       "<Figure size 1400x700 with 2 Axes>"
      ]
     },
     "metadata": {},
     "output_type": "display_data"
    }
   ],
   "source": [
    "# Plotting the t-SNE results for the training data\n",
    "plt.figure(figsize=(14, 7))\n",
    "\n",
    "plt.subplot(1, 2, 1)\n",
    "sns.scatterplot(\n",
    "    x='t-SNE 1', y='t-SNE 2',\n",
    "    hue='Author',\n",
    "    palette=sns.color_palette(\"hsv\", len(set(train_filtered_labels))),\n",
    "    data=train_tsne_df,\n",
    "    legend=\"full\",\n",
    "    alpha=0.7\n",
    ")\n",
    "plt.title(\"t-SNE Visualization of Filtered Training Data\")\n",
    "\n",
    "# Plotting the t-SNE results for the test data\n",
    "plt.subplot(1, 2, 2)\n",
    "sns.scatterplot(\n",
    "    x='t-SNE 1', y='t-SNE 2',\n",
    "    hue='Author',\n",
    "    palette=sns.color_palette(\"hsv\", len(set(test_filtered_labels))),\n",
    "    data=test_tsne_df,\n",
    "    legend=\"full\",\n",
    "    alpha=0.7\n",
    ")\n",
    "plt.title(\"t-SNE Visualization of Filtered Test Data\")\n",
    "\n",
    "plt.tight_layout()\n",
    "plt.show()"
   ]
  },
  {
   "cell_type": "markdown",
   "metadata": {},
   "source": [
    "The t-SNE plot provides a visual representation of the similarities and differences in writing styles or content among the selected authors. The distinct clustering seen for certain authors supports the idea that author attribution can be effective using the features derived from the documents. However, the overlap between some clusters also suggests that there might be challenges in distinguishing between certain authors, indicating a need for more sophisticated methods or additional features to improve classification accuracy."
   ]
  },
  {
   "cell_type": "markdown",
   "metadata": {},
   "source": [
    "# feature Extraction Using TF-IDF"
   ]
  },
  {
   "cell_type": "markdown",
   "metadata": {},
   "source": [
    "TF-IDF Vectorization on Both Train and Test Sets"
   ]
  },
  {
   "cell_type": "code",
   "execution_count": 28,
   "metadata": {},
   "outputs": [],
   "source": [
    "# Initialize the TF-IDF Vectorizer (use the same vectorizer for both datasets to ensure consistency)\n",
    "vectorizer = TfidfVectorizer(max_features=1000)\n",
    "\n",
    "# Transform the training data\n",
    "X_train = vectorizer.fit_transform(train_df['document']).toarray()\n",
    "\n",
    "# Transform the test data using the same vectorizer\n",
    "X_test = vectorizer.transform(test_df['document']).toarray()\n",
    "\n",
    "# Convert the labels to numerical values if needed\n",
    "from sklearn.preprocessing import LabelEncoder\n",
    "le = LabelEncoder()\n",
    "y_train = le.fit_transform(train_df['author'])\n",
    "y_test = le.fit_transform(test_df['author'])\n",
    "\n",
    "# Get the vocabulary\n",
    "vocab = vectorizer.get_feature_names_out()\n",
    "\n",
    "# Convert the TF-IDF matrices to DataFrames for easier manipulation and inspection\n",
    "tfidf_train_df = pd.DataFrame(X_train, columns=vocab)\n",
    "tfidf_test_df = pd.DataFrame(X_test, columns=vocab)"
   ]
  },
  {
   "cell_type": "markdown",
   "metadata": {},
   "source": [
    "Compute Cosine Similarity for Both Datasets"
   ]
  },
  {
   "cell_type": "code",
   "execution_count": 29,
   "metadata": {},
   "outputs": [],
   "source": [
    "from sklearn.metrics.pairwise import cosine_similarity\n",
    "\n",
    "# Compute the cosine similarity matrix between the documents in the training set\n",
    "cosine_sim_train_matrix = cosine_similarity(X_train)\n",
    "\n",
    "# Compute the cosine similarity matrix between the documents in the test set\n",
    "cosine_sim_test_matrix = cosine_similarity(X_test)\n",
    "\n",
    "# Convert the cosine similarity matrices to DataFrames for easier inspection\n",
    "cosine_sim_train_df = pd.DataFrame(cosine_sim_train_matrix, index=train_df['document'], columns=train_df['document'])\n",
    "cosine_sim_test_df = pd.DataFrame(cosine_sim_test_matrix, index=test_df['document'], columns=test_df['document'])"
   ]
  },
  {
   "cell_type": "code",
   "execution_count": 30,
   "metadata": {},
   "outputs": [
    {
     "name": "stdout",
     "output_type": "stream",
     "text": [
      "Most similar documents to the first document in the training set:\n",
      "document\n",
      "Revco D.S. Inc is expected to leverage its size and experience to overcome the host of problems that pushed regional drugstore chain Big B Inc into a deal with the Ohio-based drugstore giant.\\nIndustry experts said Revco is well-placed to capture profits in the southeast by taking advantage of Big B's underused distribution center and closing overlapping stores in Georgia.\\n\"Revco will be able to integrate Big B really quickly,\" said Eric Bosshard of Midwest Research-Maxus Group.  \\nThe two companies on Monday said that Big B had accepted a sweetened acquisition offer from Revco in a cash transaction valued at $380 million, or $17.25 per share.\\nIt is the latest in a string of recent acquisitions in the drugstore industry. Just two weeks ago, Rite Aid Corp agreed to buy West Coast-based Thrifty PayLess Inc for $1.4 billion.\\nBig B initially fought a takeover by Revco, rejecting its unsolicited bid of $15 per share last month and inviting interested parties to submit formal offers.  \\nLike many other regional drugstores, Big B was burdened by problems that have accompanied the burgeoning clout of managed health care and huge discount retailers.\\nBig B's profit margins began to tumble last year due to difficulty in calculating the impact of lower prescription prices paid by managed care providers. Although it invested heaviliy in a new computer system to better track profit margins, people familiar with the company have said its newly-expanded distribution center is operating at only 60 percent of capacity.  \\nOne of its first steps will be to assess store overlap, especially in Georgia where Revco operates 180 stores and Big B has 160 stores.\\n\"Once they get the distribution and the stores together, it will be a real profit center for Revco,\" said John Strauss of investment advisory firm Strauss Financial Group.\\nRevco has said that the acquisition will boost its earnings in the first year of the combination.\\nAfter some haggling about terms, Revco signed a confidentiality agreement, took a peek at Big B's books and apparently liked what it saw.  \\nThe Big B board met over the weekend and accepted the new and higher offer from Revco. Details of other offers were not immediately known, although Eckerd Corp was viewed as a potential bidder.\\nEckerd declined to comment.\\nRevco's expanded southeast presence is expected to lead to heightened competition with Eckerd, CVS, a unit of Melville Corp, and Thrift Drugs, a unit of J.C. Penney Co .\\nThe deal with Big B was seen as a significant acquisition for Revco which earlier this year was involved in a failed transaction with Rite Aid. The two companies had signed a pact for Rite Aid to buy Revco for $1.8 billion, but the deal collapsed after regulators expressed concern that the union would raise consumer prices.\\n                                                                                                                                                                                                                                                                                                                                                                                                                                                                                                                                                                                                                                                                                                                                                                                                                                                                                                                                                                                                                                                                                                                                                                                                                                                     0.873769\n",
      "Mattel Inc., seeking to expand in the market for boys' toys, agreed to buy third-ranked Tyco Toys Inc. for $755 million, the companies said Monday.\\nThe proposed union will combine Mattel's Barbie dolls, Hot Wheels miniature cars and Fisher-Price toys with Tyco's Matchbox cars, Sesame Street toys and radio-controlled vehicles.\\n\"We really believe that the boys' toy business is a very important one. We have never had big market share in that category,\" Mattel President Jill Barad said in a telephone interview.\\nUnder the agreement, Tyco shareholders will receive Mattel stock valued at $12.50 per Tyco share, representing a 78 percent premium above Friday's closing price for Tyco stock.\\nShares of Tyco jumped $4.50 to $11.50, while Mattel fell 75 cents to $29.875, both on the New York Stock Exchange.\\nThe proposed transaction follows Mattel's unsuccessful effort earlier this year to acquire No. 2 rival Hasbro Inc. Mattel, the nation's largest toymaker, was forced to withdraw its unwelcome bid due to widespread concern about its effect on competition.\\nMattel said the Tyco transaction was expected to be completed in the fist half of 1997 and would add to its earnings in the first year. The boards of both companies have approved the merger.\\nThe proposed transaction followed discussions that began with a Sept. 29 meeting between Barad and Tyco Chief Executive Officer Gary Baughman. Representatives of both companies met again on Oct. 14.\\nIndustry experts said the proposed acquisition will accomplish many of the same goals for Mattel as the failed Hasbro transaction.\\n\"It's been something they have been trying to do for years and years,\" said Smith Barney analyst Jill Krutick of Mattel's desire to boost its presence in boys' markets.\\n\"The outstanding worldwide potential for Tyco's well-known brands will be fully realised through this merger with Mattel,\" Mattel Chairman John Amerman said in a statement.\\nAlthough the union will combine two of the nation's biggest toymakers, Barad said antitrust issues were not expected to be significant. She noted that the combined companies will hold less than 20 percent market share in the highly fragmented industry.\\n\"The market shares are still low even when you look at the category breakdowns,\" she said in a telephone interview.\\nTyco, based in Mt. Laurel, N.J., had 1995 revenues of $709 million. Mattel, based in El Segundo, Calif., had 1995 sales $3.6 billion. No. 2 toy maker Hasbro had 1995 sales of $2.8 billion.\\nBut some analysts cited concern about antitrust implications, citing potential market overlap of Mattel's Hot Wheels and Tyco's Matchbox units, two leading miniature car brands.\\n\"I think it's going to be a long process in getting the OK of regulators. After the Hasbro debacle, anything Mattel does at this point will be looked at by the regulators,\" said one analyst who did not want to be identified.\\nFor money-losing Tyco, the acquisition will represent the culmination of its turnaround efforts. The toymaker last year cut 10 percent of its work force as part of a restructuring aimed at returning to profitability.\\nWith its deep pockets, leading market presence and long global reach, Mattel would easily capitalise on Tyco's products, analysts said.\\n\"Mattel clearly has ways to enhance the revenue growth of Tyco and expand it internationally. Mattel is getting into a fairly cleaned-up situation,\" Smith Barney's Krutick said.\\nThe proposed combination will also strengthen Mattel's position in plush toys, where Tyco is a market leader.\\nBarad said the deal includes a fee of $40 million that would be payable to Mattel if another company lured Tyco with a higher bid. It also calls for a break-up fee of $15 million if the transaction is not completed within a year.\\nBarad declined to specify anticipated cost savings associated with the deal, saying, \"There are a lot and they cover many categories.\" She also said it was too early to assess the potential impact of the deal on Tyco's work force.\\n    0.539598\n",
      "Rite Aid Corp said it plans to swiftly integrate Thrifty PayLess Inc into its already-powerful company by attacking weaknesses in the regional drugstore chain's distribution and technology.\\n\"To make this acquisition work, we have to reduce costs and we have to reduce costs rapidly,\" Rite Aid chief executive officer Martin Grass told more than 250 investors and analysts in a conference call.\\nIn the latest drugstore merger to sweep the industry, Rite Aid announced plans to buy Thrifty PayLess for $1.4 billion.  \\nU.S. drugstores are consolidating at a feverish pace as the result of pricing pressures and costly computer upgrades that are essential in today's world of managed healthcare.\\nIndustry analysts said Thrifty PayLess has been plagued by a weak distribution system and inefficient technology.\\n\"It is our belief that our technology is a lot more sophisticated than what is being used at Thrifty PayLess and that there are significant benefits that we can bring -- not only to the store operations, but also to the customers,\" Grass said.  \\nAnalysts expect Rite Aid to make significant progress reducing the Thrifty PayLess cost structure even though savings will not come from geographic overlap.  Rite Aid does not have any stores in Thirfty PayLess' West Coast markets.\\n\"No one is as lean as Rite Aid,\" said Eric Bosshard of Midwest Research-Maxus Group.\\nBut the proposed acquisition may create some new difficulties for Rite Aid, which typically has smaller stores and less varied merchandise than Thrifty PayLess.  Unlike Rite Aid, Thrifty PayLess sell plants, ice cream and shoes as well as traditional drugstore items.  \\nConcerns about Rite Aid's move into these new areas sent the company's stock down two to 33-7/8 in afternoon trade.\\n\"This is something that is entirely outside their realm of experience.  That is a major question mark,\" said Joseph Ronning of Brown Brothers Harriman.\\n\"These are completely different businesses.  These guys are general merchandisers,\" said Gary Vineberg of Merrill Lynch.\\nGrass addressed those issues in the conference call, saying that Rite Aid may add more merchandise experts to assess the different products.  \\n\"There are certain lines of merchandise that we will continue to carry out West that we don't carry back East,\" Grass said.\\nShares of Thrifty PayLess, which made its initial public offering in April at 14 per share, gained three to 21-3/8. Takeover stock traders said the deal values Thrifty PayLess at $23.32 per share.\\nThe proposed acquisition of Thrifty PayLess seems to eliminate Rite Aid as a potential bidder for southeast drugstore chain Big B Inc.  Rite Aid has been viewed as a possible bidder for Big B, which is fighting a hostile takeover from Revco D.S. Inc.\\nBut in announcing the Thrifty PayLess acquisition, Rite Aid also said that it is pulling out of Florida, Alabama and Georgia, which are Big B's key markets.\\n                                                                                                                                                                                                                                                                                                                                                                                                                                                                                                                                                                                                                                                                                                                                                                                                                                                                                                                                                                                                                                                                                                                                      0.519360\n",
      "Derek Pretty, finance director of troubled U.K. discount supermarket chain Kwik Save, said on Thursday a radical shake-up of the group, including the closure of 107 stores at a cost of 87.5 million stg, was the best way to ensure its future.\\n\"We researched opportunities in other areas and we reviewed, among other options, mergers. We looked at whether we should go back to being a limited range discounter, with much lower choice, and little in terms of chilled food,\" he told Reuters.\\n\"But that would have meant losing nine million customers.\"  \\nHe said the store closure programme would involve less than 200 job losses, as 90 percent of the staff would be redeployed in Kwik Save's remaining 900 stores.\\nAbout 1,900 work in the 107 stores to be shut. \"Yes, we are confident that the provisioning is solid and appropriate. Anything more than that would have put us in the realms of big baths and contigency buckets.\"\\n\"We have looked at this particularly carefully, the days of doing big bath provisioning have gone. We have looked very specifically at the stores we plan to close. We are confident it is the proper provision to take us forward.\" he said.  \\nAt a news conference chief executive Graeme Bowler said the company would introduce a new range of chilled foods, health and beauty products and over the counter medicines as well as widening its existing product range.\\n\"We are going for width rather than depth in brands,\" he said. Kwik Save will have 100 own-label products in its stores from the spring 1997.\\n\"We are not moving away from discounting prices. It is our core proposition and we will not dilute it,\" said Bowler. \"We are not trying to be a mini-version of someone else, we want to be ourselves.\"  \\n\"Kwik Save made its reputation because it sold quality products cheaply. We will not engage in selling cheap products cheaply,\" Bowler told reporters.\\nStores will also be upgraded after research conducted by outside consultants Anderson Consulting, initiated in February, showed customers wanted stores to be more welcoming and easy to use, said Bowler.\\nKwik Save would need to invest heavily in technology, where it was about two to three years behind the competition, said Bowler, so that, for instance, debit cards could be used at all its tills and stock levels could be better controlled.  \\nHe acknowledged that the group had failed to invest enough in upgrading the fabric of its stores in previous years.\\nThe new-style Kwik Save stores will be rolled out in geographical clusters over the next three years at a cost of some 300 million stg, funded from cost savings.\\nThe 107 stores will be closed progressively next year.\\nResearch had identified the need to beef up the management team and as a result Kwik Save has appointed a group marketing director and a supply chain director, and planned to appoint a new buying director, Bowler said.  \\nHe stressed the underlying performance of the group remained strong, generating sales of seven billion stg over the last two years despite fierce price pressure from superstores, and a return on capital of 20 percent in line with the industry average.\\n-- London Newsroom +44 171 542 6437\\n                                                                                                                                                                                                                                                                                                                                                                                                                                                                                                                                                                                                                                                                                                                                                                                                                                                              0.498366\n",
      "Shares in Canadian waste and transportation firm Laidlaw Inc soared on Tuesday as investors and analysts applauded major moves in ambulance services and waste management worth over $2 billion.\\nWhile Laidlaw's stock hit new heights on the Toronto Stock Exchange, chief executive officer James Bullock said the company is poised for strong growth with two huge deals announced after the market closed on Monday.\\nIn a bid to become North America's top ambulance operator, Laidlaw plans to acquire Colorado-based American Medical Response Inc in a $1.12 billion cash deal and merge it with its California-based MedTrans ambulance services unit.\\nIn the other transaction, Laidlaw has signed a letter of intent to sell its South Carolina-based Environmental Services unit for $1 billion in cash, shares and debt to Rollins Environmental Services Inc of Delaware.\\nLaidlaw will own 66-percent of a new combined company, Laidlaw Environmental Services Inc., which will be the dominant player in North American hazardous waste management.\\nThe moves came a few weeks after Burlington, Ontario-based Laidlaw completed the $1.65 billion sale of its solid waste management business to Allied Waste Industries Inc of Arizona.\\nLaidlaw's class B stock closed up C$1.80 ($1.33) at a 52-week high of C$18 ($13) in heavy turnover of 9.3 million shares on the Toronto Stock Exchange.\\nLaidlaw's class A stock improved C$1.45 ($1.06) to a new high of C$17.95 ($13.23).\\n\"We've got a (share price) target level of around C$19 ($14) and C$20 ($15) for the year and it will probably go higher when the dust settles,\" said Ira Katzin, an investment advisor with RBC Dominion Securities.\\nAMR jumped 6-3/8 to close at 39-3/8 on the New York exchange, while Rollins Environmental added 1/2 at 2-1/2.\\nAnalysts said the Rollins deal will further consolidate a fragmented industry and may improve hazardous waste prices which have been depressed in the past four to five years.\\nThe AMR acquisition will also boost Laidlaw's presence in the fast-growing healthcare transportation area.\\n\"Strategically it is quite wise,\" Bunting Warburg Inc. analyst Ted Larkin said in a telephone interview.\\n\"The highest growth potential is with their transportation companies. They are also able to partially spinoff the hazardous waste operations and also allow that company to regain a profile by listing on the New York Stock Exchange,\" Larkin said.\\nIn a note to clients, Lehman Brothers analyst Jeff Kessler said the $40 a share offer for AMR is fair and he recommended investors tender their shares.\\nWith combined annual revenues of about $1.3 billion, the new AMR will hold a 14 percent share of the $10 billion ambulance industry. It also gives Laidlaw access to related medical transport services which are a $30 billion market.\\nBullock said AMR will immediately boost Laidlaw's earnings, but he declined to give a specific forecast.\\nLarkin bumped his profit forecast for Laidlaw in the 1997 fiscal year ended August to $0.71 a share from $0.70 per share. He also revised his 1998 forecast up to $0.88 per share from the low eighties.\\nSome analysts raised concerns that anti-trust issues may hamper the AMR deal, but Bullock said he does not foresee any problems with regulators.\\nThe transaction with Rollins Environmental will be neutral to Laidlaw's earnings in the near term while operations are consolidated.\\nBullock said staff levels may be reduced by between 15-20 percent and 20 facilities may be closed, leaving about 100 facilities in the merged firm. The integration will yield more efficient operations and savings of US$75 million annually.\\n                                                                                                                                                                                                                                                                                                                                                                                            0.495617\n",
      "Name: Drugstore giant Revco D.S. Inc. said Monday it agreed to buy regional chain Big B Inc. in a sweetened takeover valued at $380 million.\\nThe transaction calls for Twinsburg, Ohio-based Revco to buy all outstanding shares of Big B common stock for $17.25 per share, up from Revco's unsolicited offer of $15 per share, which Big B rejected last month.\\n\"We are very excited about the combination of Revco and Big B. I am pleased we were able to bring this process to a fast and successful conclusion,\" said Dwayne Hoven, president and chief executive officer of Revco.\\nThe deal will combine the nation's second- and 10th-largest drug store chains.\\nThe companies said Big B's board of directors unanimously approved the latest offer and recommended that Big B shareholders tender their shares.\\nThe sale of Bessemer, Ala.-based Big B marks the latest acquisition in the rapidly consolidating drugstore industry. Rite Aid Corp. signed an agreement this month to buy West Coast chain Thrifty PayLess Inc. for $1.4 billion, and Thrift Drug Inc., a unit of J.C. Penney Co. Inc., agreed in August to buy Fay's Inc. for about $285 million.\\nAlthough Big B rejected the initial offer, its stock recently had been trading at about $16 per share on views that the company would be sold for more than Revco's original $15 per share offer.\\nRevco's stock traded up 12.5 cents at $29.50 a share on the New York Stock Exchange. Big B's shares were at $17, up 43.75 cents, in afternoon trading on Nasdaq.\\n\"With Revco's financial resources, technological expertise and marketing and sales capability, we can together grow our combined company's customer base and increase our sales potential. Among other efficiencies, this combination will allow the combined company to spread costs over a larger base of stores,\" Hoven said.\\nBig B said it will work with Revco to ensure a smooth transition.\\nLike many other regional drugstore chains, Big B has been fighting problems that have accompanied the burgeoning clout of managed health care companies and huge discount retailers. It has been hurt by deteriorating profit margins and sales and its earnings have disappointed Wall Street.\\nIndustry experts say Revco is well-placed to capture profits in the Southeast by taking advantage of Big B's underused distribution centre and closing overlapping stores in Georgia.\\n\"Revco will be able to integrate Big B really quickly,\" said Eric Bosshard of Midwest Research-Maxus Group.\\nBig B's profit margins began to tumble last year due to difficulty in calculating the impact of lower prescription prices paid by managed care providers. Although it invested heaviliy in a new computer system to better track profit margins, people familiar with the company have said its newly expanded distribution centre is operating at only 60 percent of capacity.\\nAnalysts said one of Revco's first steps will be to assess store overlap, especially in Georgia, where Revco operates 180 stores and Big B has 160 stores.\\n\"Once they get the distribution and the stores together, it will be a real profit centre for Revco,\" said John Strauss, of investment advisory firm Strauss Financial Group.\\nRevco also said it will revise and extend its tender offer for Big B shares until Nov 15. The offer had been set to expire Monday.\\nThe two companies also said all litigation between them will be withdrawn.\\nAfter some haggling about terms, Revco earlier this month signed a confidentiality agreement with Big B, took a peek at its books and apparently liked what it saw.\\nThe Big B board met over the weekend and accepted the new and higher offer from Revco. Details of other offers were not immediately known, although Eckerd Corp. was viewed as a potential bidder.\\nEckerd declined to comment.\\nBig B, Inc. operates 397 units throughout the Southeastern United States.\\nRevco operates 2,202 stores in 14 contiguous Midwestern, Southeastern and Eastern states.\\nThe deal with Big B was seen as a significant acquisition for Revco, which earlier this year was involved in a failed transaction with Rite Aid. The two companies had signed a pact for Rite Aid to buy Revco for $1.8 billion, but the deal collapsed after regulators expressed concern that the union would raise consumer prices.\\n, dtype: float64\n"
     ]
    }
   ],
   "source": [
    "# Example: Finding the most similar document to the first document in the training dataset\n",
    "first_train_doc = train_df['document'].iloc[0]\n",
    "most_similar_train_docs = cosine_sim_train_df[first_train_doc].sort_values(ascending=False)\n",
    "print(f\"Most similar documents to the first document in the training set:\\n{most_similar_train_docs[1:6]}\")"
   ]
  },
  {
   "cell_type": "code",
   "execution_count": 31,
   "metadata": {},
   "outputs": [
    {
     "name": "stdout",
     "output_type": "stream",
     "text": [
      "Most similar documents to the first document in the test set:\n",
      "document\n",
      "ITT Corp. met with financial advisers on Thursday to assess an unsolicited $6.5 billion bid from Hilton Hotels Corp., while some Wall Street analysts said the company's best defence might be to pursue an acquisition.\\nIndustry experts said ITT might be able to stave off the takeover if it made a large casino or hotel purchase.\\n\"ITT is a company with a lot of friends on Wall Street and a lot of investment bankers and there are a lot of players in the gaming industry who would like to trade up to a higher quality,\" said Thomas Ryan of Bankers Trust.\\nAlthough ITT is widely expected to reject the offer, sources close to the company said no decision had been made and no acquisition talks were being held. ITT's board will consider the bid at a regularly-scheduled board meeting next Tuesday.\\nITT declined to comment.\\nOn Monday, Hilton offered to buy ITT in a stock and cash transaction that values the company at $55 per share. The offer also includes the assumption of $4 billion in debt.\\nThe stock of New York-based ITT, which soared most of the week on views Hilton would be forced to raise the bid, fell 75 cents to $56.875.\\nOn Friday, ITT's financial advisers are expected to pore over Hilton's official bid documents that are to be filed with the Securities and Exchange Commission.\\nAn acquisition \"certainly would be in keeping with the company's history. (ITT Chairman Rand Araskog) has either got to be a buyer or he's got to let the company go,\" said Gerry Shapiro, managing director at KPMG Peat Marwick.\\nIndustry experts said a sizable acquisition by ITT would thwart Hilton's takeover plan by making the purchase price too costly. In a telephone conference call with reporters earlier this week, Hilton Chief Executive Officer Stephen Bollenbach vowed the Beverly Hills, Calif.-based company would only pursue transactions that added to earnings.\\nIndustry experts speculated that one of the most attractive acquisition candidates would be Harrah's Entertainment Inc. which has long been considered ripe to participate in industry consolidation.\\nA spokesman for Harrah's declined to comment.\\nAn acquisition would also further solidify Araskog's role at the company he has run since 1979. He ran the ITT conglomerate and then took over the hotel, entertainment and gambling portion of the company when it split into three pieces in 1995.\\n\"I think Rand Araskog doesn't want to give up his job.,\" said Forum Capital Markets analyst Philip Platek, who also speculated that ITT could buy a gambling or lodging company.\\n                                                                                                                                                                                                                                                                                                                                                                                                                                                                                                                                                                                                                                                                                                                                                                                                                                                                                                                                                                         0.997787\n",
      "The chairman of ITT Corp has rejected an offer to meet the top executive of Hilton Hotels Corp, which last week launched a $6.5 billion hostile takeover of the hotel, casino and entertainment giant, sources close to the companies said.\\nIn a letter faxed to Hilton chairman Stephen Bollenbach on Saturday, ITT chairman Rand Araskog said it would be inappropriate for the executives to meet or for Bollenbach to address the ITT board on Tuesday as he had requested, the sources said.\\nThe sources described Araskog's letter as brief and formal.\\nAn ITT spokesman declined to comment and a Hilton spokesman in Los Angeles could not be immediately reached for comment.\\nBollenbach's request to ITT was disclosed in a January 31 filing with the U.S. Securities and Exchange Commission.\\nHilton, which is trying to buy ITT in a cash and stock deal valued at $55 per share, formally launched a hostile takeover of ITT on Friday. Hilton also has proposed acquiring about $4 billion of ITT debt for a total transaction worth $10.5 billion.  \\nWall Street experts widely expect ITT to reject the offer, which is considered to be too low. Although its stock has declined sharply in recent months, most experts estimate ITT is worth at least $65 per share.\\nITT's advisers have spent the past few days poring over the formal bid filed with the SEC on Friday. The advisers are expected to present an in-depth analysis of the offer when ITT holds a regularly scheduled board meeting on Tuesday.\\nThe ITT board, which has until February 14 to respond to the Hilton offer, is not expected to make a decision at the Tuesday meeting.\\nSources close to ITT told Reuters that the analysis was likely to focus on Hilton's proposed financing for the transaction and a preliminary agreement with HFS Inc to license the Sheraton franchise. Hilton, which has estimated it will need about $3.5 billion to buy ITT, said its offer is not conditioned on obtaining financing.\\nHilton has estimated the proposed union would generate more than $100 million in cost savings.\\nHilton also has said that while it would prefer to negotiate a transaction with ITT, it would be prepared to launch a proxy fight to replace the ITT board of directors.\\n                                                                                                                                                                                                                                                                                                                                                                                                                                                                                                                                                                                                                                                                                                                                                                                                                                                                                                                                                                                                                                                                                                                                                                                                                                                                                                                  0.605825\n",
      "When ITT broke into three companies in 1995, top executives said the move would increase value for stockholders, fuel growth and make the separate businesses more competitive.\\nBut independence has come at a high price for the former conglomerate's hotel, casino and entertainment division known as ITT Corp. Industry competition is fiercer than ever before, a huge expansion plan has been unexpectedly difficult, and the company's stock price has eroded dramatically in the past few months.  \\nAnd now, rival Hilton Hotels Corp is prepared to launch a $6.5 billion hostile takeover of the company whose assets include some of the world's best-known properties - from the New York Knicks to Sheraton hotels to Madison Square Garden.\\n\"ITT has always bought the highest-quality assets. When they go out and buy something, they always buy the best and they've always paid a lot of money for those assets - maybe too much - but the bottom line is they own some top quality assets,\" said Bruce Raabe of Collins &amp; Co.  \\nIt is the appeal of those assets and the view that they should be contributing more to the company's bottom line that may make ITT vulnerable, industry experts said.\\nSo far, ITT has said little about the Hilton offer other than it will consider it. A source familiar with ITT said its board has a regularly scheduled meeting next Tuesday.\\nAn ITT spokesman could not be reached for comment.\\nBut industry analysts widely believe the $55 cash and stock offer made by Hilton undervalues the company. Shares of ITT soared 14-1/4 to 56-7/8 on views that any transaction will come at a higher price than the Monday offer.  \\nWall Street sources knowledgeable about ITT's operations admit the giant company has faltered in recent months even as it has pursued an aggressive path of expansion. The company, which has earmarked $2.5 billion for expansion, lost out to Hilton in a bid for Bally Entertainment Corp and has suffered construction project setbacks and losses from its high-stakes bacarrat tables in Las Vegas.\\n\"Remember, this company has only been public for a year. The company gets a lot of attention and it doesn't shrink from doing aggressive things,\" said one Wall Street source who did not want to be identified.  \\nBut others said the company's acquisition strategy is not well focused, the construction problems were avoidable and the company's management does not have a strong background in operating casinos. Chief executive Rand Araskog ran the conglomerate since 1979 and took control of the new ITT Corp after overseeing the three-way split. President Robert Bowman is considered to be an extremely savvy financier, but does not comes from the gaming industry.\\n\"This is a team that isn't working very well together. Araskog is the behind-the-desk kind of CEO instead of the kind of guy who's out living and breathing his business. Bowman is working with intellect and energy, but without a good perspective of the business,\" said one industry expert who did not want to be identified.\\nITT, which is expected to rebuff the takeover effort, is likely to tout its future plans as an enticement for shareholders.\\n\"The less-than-favorable publicity, some of which has been unfair, that the officers of ITT have received, has overshadowed the fact that management is looking at long-term plans, but fast management is now more respected than long-term planning,\" said Bjorn Hanson, hospitality industry chairman at Coopers &amp; Lybrand.\\n    0.600819\n",
      "ITT Corp. moved forward on Monday with preparations for its Tuesday board meeting at which it will consider a $6.5 billion unsolicited takeover bid from Hilton Hotels Corp.\\nThe meeting, to be held in New York, will be the first board session since Hilton launched its offer last week. The board, which has until Feb. 14 to respond to Hilton's offer, is not expected to make a decision right away.\\nITT spokesman Jim Gallagher declined to disclose the time of the meeting. A source close to the company indicated that the session is likely to last most of the day.\\nOn Saturday, ITT Chairman Rand Araskog turned down a request from Hilton's top executive to meet. Hilton Chief Executive Officer Stephen Bollenbach had asked to meet Araskog before Tuesday's board meeting or be permitted to make a presentation to the ITT board.\\nAraskog rejected the offer in a faxed letter to Bollenbach, saying it would be inappropriate.\\nThe cash and stock transaction values ITT at $55 per share.\\nITT stock, which rose sharply last week on views that Hilton will be forced to raise its bid, lost 25 cents to $56.875 in Monday trading on the New York Stock Exchange.\\nAs ITT was preparing for the meeting, Bollenbach flew to London on Monday to meet with Hilton's European partner. Hilton Hotels owns the rights to the Hilton brand in the United States and Ladbroke Group Plc. holds them in the rest of the world.\\nHilton officials said Bollenbach, who was named to the Ladbroke board last month as part of the expanded alliance between the two companies, would attend a Ladbroke board meeting. He was due to return to the United States by mid-week.\\nShares of Ladbroke traded in London rose on Monday amid speculation that ITT may bid for Ladbroke as part of its anticipated defense against a Hilton takeover. London analysts downplayed the speculation, which was fueled by a U.S. Securities and Exchange Commission filing that disclosed Ladbroke and ITT had discussed a possible joint venture or merger a year ago.\\nMeanwhile, Hilton said Monday that it expects soon to announce other hotel acquisitions.\\n\"There are a lot of things on our plate. We've got things working on the hotel side,\" Senior Vice President of Corporate Affairs Marc Grossman told reporters at an industry conference sponsored by Montgomery Securities. He declined to discuss details.\\nSeparately, HFS Inc. Chairman Henry Silverman said in an interview that his company had been searching for a new hotel brand when it reached its latest agreement with Hilton. The Hilton offer for ITT includes a pact in which HFS would license ITT's Sheraton trademark, franchise system and management agreements.\\nSilverman said the preliminary agreement was struck with Hilton several days before it announced its offer for ITT and evolved from previous discussions between the two companies.\\nHFS is a consumer services company with hotel franchise, automotive and real estate holdings.\\n                                                                                                                                                                                                                                                                                                                                                                                                                                                                                                                                                              0.590219\n",
      "ITT Corp. moved forward on Monday with preparations for its Tuesday board meeting at which it will consider a $6.5 billion unsolicited takeover bid from Hilton Hotels Corp.\\nThe meeting, to be held in New York, will be the first board session since Hilton launched its offer last week. The board, which has until Feb. 14 to respond to Hilton's offer, is not expected to make a decision right away.\\nITT spokesman Jim Gallagher declined to disclose the time of the meeting. A source close to the company indicated that the session is likely to last most of the day.\\nOn Saturday, ITT Chairman Rand Araskog turned down a request from Hilton's top executive to meet. Hilton Chief Executive Officer Stephen Bollenbach had asked to meet Araskog before Tuesday's board meeting or be permitted to make a presentation to the ITT board.\\nAraskog rejected the offer in a faxed letter to Bollenbach, saying it would be inappropriate.\\nThe cash and stock transaction values ITT at $55 per share.\\nITT stock, which rose sharply last week on views that Hilton will be forced to raise its bid, lost 25 cents to $56.875 in Monday trading on the New York Stock Exchange.\\nAs ITT was preparing for the meeting, Bollenbach flew to London on Monday to meet with Hilton's European partner. Hilton Hotels owns the rights to the Hilton brand in the United States and Ladbroke Group Plc. holds them in the rest of the world.\\nHilton officials said Bollenbach, who was named to the Ladbroke board last month as part of the expanded alliance between the two companies, would attend a Ladbroke board meeting. He was due to return to the United States by mid-week.\\nShares of Ladbroke traded in London rose on Monday amid speculation that ITT may bid for Ladbroke as part of its anticipated defence against a Hilton takeover. London analysts downplayed the speculation, which was fuelled by a U.S. Securities and Exchange Commission filing that disclosed Ladbroke and ITT had discussed a possible joint venture or merger a year ago.\\nMeanwhile, Hilton said Monday that it expects soon to announce other hotel acquisitions.\\n\"There are a lot of things on our plate. We've got things working on the hotel side,\" Senior Vice President of Corporate Affairs Marc Grossman told reporters at an industry conference sponsored by Montgomery Securities. He declined to discuss details.\\nSeparately, HFS Inc. Chairman Henry Silverman said in an interview that his company had been searching for a new hotel brand when it reached its latest agreement with Hilton. The Hilton offer for ITT includes a pact in which HFS would license ITT's Sheraton trademark, franchise system and management agreements.\\nSilverman said the preliminary agreement was struck with Hilton several days before it announced its offer for ITT and evolved from previous discussions between the two companies.\\nHFS is a consumer services company with hotel franchise, automotive and real estate holdings.\\n                                                                                                                                                                                                                                                                                                                                                                                                                                                                                                                                                             0.589228\n",
      "Name: ITT Corp. met with financial advisers on Thursday to assess an unsolicited $6.5 billion bid from Hilton Hotels Corp., while some Wall Street analysts said the company's best defense might be to pursue an acquisition.\\nIndustry experts said ITT might be able to stave off the takeover if it made a large casino or hotel purchase.\\n\"ITT is a company with a lot of friends on Wall Street and a lot of investment bankers and there are a lot of players in the gaming industry who would like to trade up to a higher quality,\" said Thomas Ryan of Bankers Trust.\\nAlthough ITT is widely expected to reject the offer, sources close to the company said no decision had been made and no acquisition talks were being held. ITT's board will consider the bid at a regularly-scheduled board meeting next Tuesday.\\nITT declined to comment.\\nOn Monday, Hilton offered to buy ITT in a stock and cash transaction that values the company at $55 per share. The offer also includes the assumption of $4 billion in debt.\\nThe stock of New York-based ITT, which soared most of the week on views Hilton would be forced to raise the bid, fell 75 cents to $56.875.\\nOn Friday, ITT's financial advisers are expected to pore over Hilton's official bid documents that are to be filed with the Securities and Exchange Commission.\\nAn acquisition \"certainly would be in keeping with the company's history. (ITT Chairman Rand Araskog) has either got to be a buyer or he's got to let the company go,\" said Gerry Shapiro, managing director at KPMG Peat Marwick.\\nIndustry experts said a sizable acquisition by ITT would thwart Hilton's takeover plan by making the purchase price too costly. In a telephone conference call with reporters earlier this week, Hilton Chief Executive Officer Stephen Bollenbach vowed the Beverly Hills, Calif.-based company would only pursue transactions that added to earnings.\\nIndustry experts speculated that one of the most attractive acquisition candidates would be Harrah's Entertainment Inc., which has long been considered ripe to participate in industry consolidation.\\nA spokesman for Harrah's declined to comment.\\nAn acquisition would also further solidify Araskog's role at the company he has run since 1979. He ran the ITT conglomerate and then took over the hotel, entertainment and gambling portion of the company when it split into three pieces in 1995.\\n\"I think Rand Araskog doesn't want to give up his job.,\" said Forum Capital Markets analyst Philip Platek, who also speculated that ITT could buy a gambling or lodging company.\\n, dtype: float64\n"
     ]
    }
   ],
   "source": [
    "# Example: Finding the most similar document to the first document in the test dataset\n",
    "first_test_doc = test_df['document'].iloc[0]\n",
    "most_similar_test_docs = cosine_sim_test_df[first_test_doc].sort_values(ascending=False)\n",
    "print(f\"Most similar documents to the first document in the test set:\\n{most_similar_test_docs[1:6]}\")"
   ]
  },
  {
   "cell_type": "code",
   "execution_count": 32,
   "metadata": {},
   "outputs": [],
   "source": [
    "# # Set up the figure for side-by-side plots\n",
    "# plt.figure(figsize=(14, 6))\n",
    "\n",
    "# # Plot the cosine similarity heatmap for the training data\n",
    "# plt.subplot(1, 2, 1)\n",
    "# sns.heatmap(cosine_sim_train_df, cmap='coolwarm', cbar=True)\n",
    "# plt.title('Cosine Similarity Heatmap - Training Data')\n",
    "# plt.xlabel('Documents')\n",
    "# plt.ylabel('Documents')\n",
    "\n",
    "# # Plot the cosine similarity heatmap for the test data\n",
    "# plt.subplot(1, 2, 2)\n",
    "# sns.heatmap(cosine_sim_test_df, cmap='coolwarm', cbar=True)\n",
    "# plt.title('Cosine Similarity Heatmap - Test Data')\n",
    "# plt.xlabel('Documents')\n",
    "# plt.ylabel('Documents')\n",
    "\n",
    "# # Adjust the layout and show the plot\n",
    "# plt.tight_layout()\n",
    "# plt.show()"
   ]
  },
  {
   "cell_type": "markdown",
   "metadata": {},
   "source": [
    "Apply PCA and K-Means Clustering on Both Datasets"
   ]
  },
  {
   "cell_type": "code",
   "execution_count": 33,
   "metadata": {},
   "outputs": [],
   "source": [
    "# Train\n",
    "# Apply PCA on the training data\n",
    "pca = PCA(n_components=2)\n",
    "X_train_pca = pca.fit_transform(X_train)\n",
    "\n",
    "# Apply K-Means Clustering on the PCA-reduced training data\n",
    "kmeans = KMeans(n_clusters=5, random_state=42)\n",
    "train_clusters = kmeans.fit_predict(X_train_pca)\n",
    "\n",
    "# Create a DataFrame for the PCA results\n",
    "train_pca_df = pd.DataFrame(data=X_train_pca, columns=['PC1', 'PC2'])\n",
    "train_pca_df['Cluster'] = train_clusters\n",
    "\n",
    "# Test\n",
    "# Apply PCA on the test data using the PCA model fitted on the training data\n",
    "X_test_pca = pca.transform(X_test)\n",
    "\n",
    "# Apply K-Means Clustering on the PCA-reduced test data using the same K-Means model fitted on the training data\n",
    "test_clusters = kmeans.predict(X_test_pca)\n",
    "\n",
    "# Create a DataFrame for the PCA results\n",
    "test_pca_df = pd.DataFrame(data=X_test_pca, columns=['PC1', 'PC2'])\n",
    "test_pca_df['Cluster'] = test_clusters"
   ]
  },
  {
   "cell_type": "code",
   "execution_count": 34,
   "metadata": {},
   "outputs": [
    {
     "name": "stdout",
     "output_type": "stream",
     "text": [
      "Training Silhouette Score: 0.3611998318711934\n",
      "Test Silhouette Score: 0.36475427055533577\n"
     ]
    }
   ],
   "source": [
    "# Calculate silhouette score for training data\n",
    "train_sil_score = silhouette_score(X_train_pca, train_clusters)\n",
    "print(f'Training Silhouette Score: {train_sil_score}')\n",
    "\n",
    "# Calculate silhouette score for test data\n",
    "test_sil_score = silhouette_score(X_test_pca, test_clusters)\n",
    "print(f'Test Silhouette Score: {test_sil_score}')"
   ]
  },
  {
   "cell_type": "code",
   "execution_count": 35,
   "metadata": {},
   "outputs": [
    {
     "data": {
      "image/png": "[encoded data removed]",
      "text/plain": [
       "<Figure size 1400x600 with 2 Axes>"
      ]
     },
     "metadata": {},
     "output_type": "display_data"
    }
   ],
   "source": [
    "# Set up the figure for side-by-side plots\n",
    "plt.figure(figsize=(14, 6))\n",
    "\n",
    "# Plot the clusters for the training data\n",
    "plt.subplot(1, 2, 1)\n",
    "sns.scatterplot(\n",
    "    x='PC1', y='PC2',\n",
    "    hue='Cluster',\n",
    "    palette=sns.color_palette('viridis', as_cmap=True),\n",
    "    data=train_pca_df,\n",
    "    legend='full',\n",
    "    alpha=0.7\n",
    ")\n",
    "plt.title('K-Means Clustering of Reuters C50 Corpus (PCA-Reduced Training Data)')\n",
    "plt.xlabel('Principal Component 1')\n",
    "plt.ylabel('Principal Component 2')\n",
    "\n",
    "# Plot the clusters for the test data\n",
    "plt.subplot(1, 2, 2)\n",
    "sns.scatterplot(\n",
    "    x='PC1', y='PC2',\n",
    "    hue='Cluster',\n",
    "    palette=sns.color_palette('viridis', as_cmap=True),\n",
    "    data=test_pca_df,\n",
    "    legend='full',\n",
    "    alpha=0.7\n",
    ")\n",
    "plt.title('K-Means Clustering of Reuters C50 Corpus (PCA-Reduced Test Data)')\n",
    "plt.xlabel('Principal Component 1')\n",
    "plt.ylabel('Principal Component 2')\n",
    "\n",
    "# Adjust the layout and show the plot\n",
    "plt.tight_layout()\n",
    "plt.show()"
   ]
  }
 ],
 "metadata": {
  "kernelspec": {
   "display_name": "myenv",
   "language": "python",
   "name": "python3"
  },
  "language_info": {
   "codemirror_mode": {
    "name": "ipython",
    "version": 3
   },
   "file_extension": ".py",
   "mimetype": "text/x-python",
   "name": "python",
   "nbconvert_exporter": "python",
   "pygments_lexer": "ipython3",
   "version": "3.12.4"
  }
 },
 "nbformat": 4,
 "nbformat_minor": 2
}
