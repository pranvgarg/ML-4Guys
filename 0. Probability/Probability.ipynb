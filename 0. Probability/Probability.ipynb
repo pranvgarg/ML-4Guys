{
 "cells": [
  {
   "cell_type": "markdown",
   "metadata": {},
   "source": [
    "# Probability Solutions"
   ]
  },
  {
   "cell_type": "markdown",
   "metadata": {},
   "source": [
    "__Part A.__ Visitors to your website are asked to answer a single survey question before they get access to the content on the page. Among all of the users, there are two categories: Random Clicker (RC), and Truthful Clicker (TC). There are two possible answers to the survey: yes and no. Random clickers would click either one with equal probability. You are also giving the information that the expected fraction of random clickers is 0.3.  After a trial period, you get the following survey results: 65\\% said Yes and 35\\% said No.   What fraction of people who are truthful clickers answered yes?  Hint: use the rule of total probability.  "
   ]
  },
  {
   "cell_type": "code",
   "execution_count": 1,
   "metadata": {},
   "outputs": [],
   "source": [
    "p_t = 0.7\n",
    "p_y = 0.65\n",
    "p_r = 0.3\n",
    "p_r_y = 0.5"
   ]
  },
  {
   "cell_type": "markdown",
   "metadata": {},
   "source": [
    "* p(truthful) = p(truthful, yes) + p(truthful, no)\n",
    "* p(truthful) = p(yes) * p(truthful|yes) +  p(no) * p(truthful|no)\n",
    "* p(truthful|yes) = [p(truthful) - p(no) * p(truthful|no)] / p(yes)"
   ]
  },
  {
   "cell_type": "code",
   "execution_count": 6,
   "metadata": {},
   "outputs": [
    {
     "name": "stdout",
     "output_type": "stream",
     "text": [
      "Fraction of people who are truthful clickers answered YES: 0.7142857142857143\n"
     ]
    }
   ],
   "source": [
    "answer = (p_y - (p_r*p_r_y))/p_t\n",
    "print(\"Fraction of people who are truthful clickers answered YES:\", answer)"
   ]
  },
  {
   "cell_type": "markdown",
   "metadata": {},
   "source": [
    "__Part B.__ Imagine a medical test for a disease with the following two attributes:  \n",
    "\n",
    "- The sensitivity is about 0.993. That is, if someone has the disease, there is a probability of 0.993 that they will test positive.  \n",
    "- The specificity is about 0.9999. This means that if someone doesn't have the disease, there is probability of 0.9999 that they will test negative.  \n",
    "- In the general population, incidence of the disease is reasonably rare: about 0.0025% of all people have it (or 0.000025 as a decimal probability).\n",
    "\n",
    "Suppose someone tests positive. What is the probability that they have the disease?"
   ]
  },
  {
   "cell_type": "markdown",
   "metadata": {},
   "source": [
    "P(Disease, Positive) = (P(Disease) * P(positive | disease)) / P(T)\n",
    "\n",
    "(.000025 * .993)/((.000025 * .993) + (( (1 - .000025))))\n",
    "\n",
    "Need P(positive | no disease)"
   ]
  },
  {
   "cell_type": "code",
   "execution_count": 7,
   "metadata": {},
   "outputs": [
    {
     "data": {
      "text/plain": [
       "0.19888241302651516"
      ]
     },
     "execution_count": 7,
     "metadata": {},
     "output_type": "execute_result"
    }
   ],
   "source": [
    "#1b\n",
    "p_d = .000025\n",
    "p_no_d_neg = .9999\n",
    "p_p_d = .993\n",
    "p_no_d = 1-p_d\n",
    "p_p_no_d = 1-p_no_d_neg\n",
    "\n",
    "numer = p_d * p_p_d\n",
    "denom = p_p_d * p_d + p_no_d * p_p_no_d\n",
    "\n",
    "solution = numer/denom\n",
    "solution"
   ]
  },
  {
   "cell_type": "code",
   "execution_count": null,
   "metadata": {},
   "outputs": [],
   "source": []
  }
 ],
 "metadata": {
  "kernelspec": {
   "display_name": "base",
   "language": "python",
   "name": "python3"
  },
  "language_info": {
   "codemirror_mode": {
    "name": "ipython",
    "version": 3
   },
   "file_extension": ".py",
   "mimetype": "text/x-python",
   "name": "python",
   "nbconvert_exporter": "python",
   "pygments_lexer": "ipython3",
   "version": "3.12.2"
  }
 },
 "nbformat": 4,
 "nbformat_minor": 2
}
