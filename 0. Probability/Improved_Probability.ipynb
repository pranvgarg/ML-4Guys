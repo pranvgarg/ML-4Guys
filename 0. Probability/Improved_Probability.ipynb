{
 "cells": [
  {
   "cell_type": "markdown",
   "metadata": {},
   "source": [
    "# **Probability Solutions**"
   ]
  },
  {
   "cell_type": "markdown",
   "metadata": {},
   "source": [
    "\n",
    "**Part A:** \n",
    "\n",
    "Visitors to your website are asked to answer a single survey question before they get access to the content on the page. Among all of the users, there are two categories: Random Clicker (RC) and Truthful Clicker (TC). There are two possible answers to the survey: Yes and No. Random Clickers would click either one with equal probability. \n",
    "\n",
    "You are also given the information that the expected fraction of Random Clickers is 0.3. After a trial period, you get the following survey results: 65% said Yes and 35% said No.\n",
    "\n",
    "**Question:** \n",
    "What fraction of people who are Truthful Clickers answered Yes? \n",
    "\n",
    "*Hint:* Use the rule of total probability.\n"
   ]
  },
  {
   "cell_type": "code",
   "execution_count": 1,
   "metadata": {},
   "outputs": [],
   "source": [
    "\n",
    "# Given probabilities\n",
    "p_t = 0.7  # Fraction of Truthful Clickers\n",
    "p_y = 0.65  # Probability of saying Yes\n",
    "p_r = 0.3  # Fraction of Random Clickers\n",
    "p_r_y = 0.5  # Probability of Random Clicker saying Yes\n"
   ]
  },
  {
   "cell_type": "markdown",
   "metadata": {},
   "source": [
    "\n",
    "To solve this, we use the following approach:\n",
    "\n",
    "- p(truthful) = p(truthful, yes) + p(truthful, no)\n",
    "- p(truthful) = p(yes) * p(truthful|yes) +  p(no) * p(truthful|no)\n",
    "- p(truthful|yes) = [p(truthful) - p(no) * p(truthful|no)] / p(yes)\n"
   ]
  },
  {
   "cell_type": "code",
   "execution_count": 6,
   "metadata": {},
   "outputs": [
    {
     "name": "stdout",
     "output_type": "stream",
     "text": [
      "Fraction of people who are truthful clickers answered YES: 0.7142857142857143\n"
     ]
    }
   ],
   "source": [
    "\n",
    "# Calculating the fraction of Truthful Clickers who answered Yes\n",
    "answer = (p_y - (p_r * p_r_y)) / p_t\n",
    "print(\"Fraction of people who are Truthful Clickers answered YES:\", answer)\n"
   ]
  },
  {
   "cell_type": "markdown",
   "metadata": {},
   "source": [
    "\n",
    "**Part B:** \n",
    "\n",
    "Imagine a medical test for a disease with the following attributes:\n",
    "\n",
    "- **Sensitivity (True Positive Rate):** 0.993, meaning if someone has the disease, there is a 0.993 probability they will test positive.\n",
    "- **Specificity (True Negative Rate):** 0.9999, meaning if someone doesn't have the disease, there is a 0.9999 probability they will test negative.\n",
    "- **Prevalence of the Disease:** In the general population, the incidence of the disease is 0.0025% (or 0.000025 as a decimal probability).\n",
    "\n",
    "**Question:** \n",
    "If someone tests positive, what is the probability that they actually have the disease?\n"
   ]
  },
  {
   "cell_type": "markdown",
   "metadata": {},
   "source": [
    "\n",
    "We can calculate this using Bayes' Theorem:\n",
    "\n",
    "P(Disease | Positive) = (P(Disease) * P(Positive | Disease)) / P(Positive)\n",
    "\n",
    "Where P(Positive) = P(Positive | Disease) * P(Disease) + P(Positive | No Disease) * P(No Disease)\n"
   ]
  },
  {
   "cell_type": "code",
   "execution_count": 7,
   "metadata": {},
   "outputs": [
    {
     "data": {
      "text/plain": [
       "0.19888241302651516"
      ]
     },
     "execution_count": 7,
     "metadata": {},
     "output_type": "execute_result"
    }
   ],
   "source": [
    "\n",
    "# Given probabilities for the problem\n",
    "p_d = 0.000025  # Probability of having the disease\n",
    "p_no_d_neg = 0.9999  # Probability of testing negative given no disease (Specificity)\n",
    "p_p_d = 0.993  # Probability of testing positive given disease (Sensitivity)\n",
    "p_no_d = 1 - p_d  # Probability of not having the disease\n",
    "p_p_no_d = 1 - p_no_d_neg  # Probability of testing positive given no disease\n",
    "\n",
    "# Applying Bayes' Theorem\n",
    "numer = p_d * p_p_d  # Numerator: P(Disease) * P(Positive | Disease)\n",
    "denom = p_p_d * p_d + p_no_d * p_p_no_d  # Denominator: Total Probability of testing positive\n",
    "\n",
    "# Solution: Probability of having the disease given a positive test\n",
    "solution = numer / denom\n",
    "solution\n"
   ]
  }
 ],
 "metadata": {
  "kernelspec": {
   "display_name": "base",
   "language": "python",
   "name": "python3"
  },
  "language_info": {
   "codemirror_mode": {
    "name": "ipython",
    "version": 3
   },
   "file_extension": ".py",
   "mimetype": "text/x-python",
   "name": "python",
   "nbconvert_exporter": "python",
   "pygments_lexer": "ipython3",
   "version": "3.12.2"
  }
 },
 "nbformat": 4,
 "nbformat_minor": 2
}
